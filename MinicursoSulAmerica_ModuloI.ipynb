{
  "nbformat": 4,
  "nbformat_minor": 0,
  "metadata": {
    "celltoolbar": "Slideshow",
    "kernelspec": {
      "display_name": "Python 3",
      "language": "python",
      "name": "python3"
    },
    "language_info": {
      "codemirror_mode": {
        "name": "ipython",
        "version": 3
      },
      "file_extension": ".py",
      "mimetype": "text/x-python",
      "name": "python",
      "nbconvert_exporter": "python",
      "pygments_lexer": "ipython3",
      "version": "3.7.6"
    },
    "rise": {
      "autolaunch": true
    },
    "toc": {
      "base_numbering": 1,
      "nav_menu": {},
      "number_sections": true,
      "sideBar": true,
      "skip_h1_title": false,
      "title_cell": "Sumário",
      "title_sidebar": "Sumário",
      "toc_cell": false,
      "toc_position": {
        "height": "505.818px",
        "left": "572px",
        "top": "172.364px",
        "width": "219.069px"
      },
      "toc_section_display": true,
      "toc_window_display": true
    },
    "colab": {
      "name": "Minicurso I - SulAmerica.ipynb",
      "provenance": [],
      "toc_visible": true,
      "include_colab_link": true
    }
  },
  "cells": [
    {
      "cell_type": "markdown",
      "metadata": {
        "id": "view-in-github",
        "colab_type": "text"
      },
      "source": [
        "<a href=\"https://colab.research.google.com/github/OilsonGonzatto/MinicursoSulAmerica_ModuloI/blob/master/Minicurso_I_SulAmerica.ipynb\" target=\"_parent\"><img src=\"https://colab.research.google.com/assets/colab-badge.svg\" alt=\"Open In Colab\"/></a>"
      ]
    },
    {
      "cell_type": "code",
      "metadata": {
        "scrolled": true,
        "id": "Q4uHt3IoVlRX",
        "colab_type": "code",
        "colab": {
          "base_uri": "https://localhost:8080/",
          "height": 70
        },
        "outputId": "ac4d99d1-74e7-44e9-c5c1-a652df3538b5"
      },
      "source": [
        "# CARREGANDO OS PACOTES USUAIS\n",
        "# ===\n",
        "# Para manipulação\n",
        "# ---\n",
        "import pandas as pd\n",
        "#\n",
        "# Para visualização\n",
        "# ---\n",
        "import numpy as np\n",
        "import matplotlib.pyplot as plt\n",
        "\n",
        "import scipy.stats as stats\n",
        "import seaborn as sns"
      ],
      "execution_count": null,
      "outputs": [
        {
          "output_type": "stream",
          "text": [
            "/usr/local/lib/python3.6/dist-packages/statsmodels/tools/_testing.py:19: FutureWarning: pandas.util.testing is deprecated. Use the functions in the public API at pandas.testing instead.\n",
            "  import pandas.util.testing as tm\n"
          ],
          "name": "stderr"
        }
      ]
    },
    {
      "cell_type": "markdown",
      "metadata": {
        "cell_style": "center",
        "id": "JQfP6YJvVlRc",
        "colab_type": "text"
      },
      "source": [
        "<hr>\n",
        "\n",
        "<p style='font-size:36px; text-align: center;'><b>ESTATÍSTICA BÁSICA PARA CIÊNCIAS DE DADOS</b></p>\n",
        "<p style='font-size:22px; text-align: center;'><b>MÓDULO I: CONCEITOS FUNDAMENTAIS E ESTRUTURAS DESCRITIVAS</b></p>\n",
        "\n",
        "<hr>\n",
        "\n",
        "<br><br><p style='font-size:20px; text-align: center;'>Francisco Louzada Neto</p>\n",
        "<p style='font-size:12px; text-align: center;'>\n",
        "Professor do SME-ICMC-USP<br>\n",
        "Phd em Estatística\n",
        "</p><br><br>\n",
        "\n",
        "<hr>\n",
        "<img src=\"logo_CeMEAI.jpg\" width = 200 style=\"position: absolute; margin:0px 0px 0px 0px\">\n",
        "\n",
        "<p style='font-size:14px; text-align: center;'>\n",
        "Centro de Matemática e Estatística Aplicadas à Indústria<br>\n",
        "Instituto de Ciências Matemáticas e de Computação - USP<br>\n",
        "<i style='font-size:14px;' class=\"fa fa-phone\"></i> +55 (16) 3373-8159 | \n",
        "<i style='font-size:14px;' class=\"fa fa-phone\"></i> +55 (16) 3371-2238 <br>\n",
        "<a href=\"mailto:contatocemeai@icmc.usp.br\"><i style='font-size:14px;' class=\"fa fa-envelope\"></i></a>$~~$\n",
        "<a href=\"https://www.facebook.com/cepid.cemeai/\"><i style='font-size:14px;' class=\"fa fa-facebook\"></i></a>$~~$\n",
        "<a href=\"https://www.youtube.com/c/CEPIDCeMEAI\"><i style='font-size:14px;' class=\"fa fa-youtube\"></i></a>$~~$\n",
        "<a href=\"https://twitter.com/cepidcemeai\"><i style='font-size:14px;' class=\"fa fa-twitter\"></i></a>\n",
        "</p>\n",
        "\n",
        "<img src=\"logo_ICMC.jpg\" width = 150 style=\"position: absolute; right: 0px; margin:-75px 30px 0px 0px\">\n",
        "<hr>\n",
        "     "
      ]
    },
    {
      "cell_type": "markdown",
      "metadata": {
        "id": "FlhLJlF7VlRd",
        "colab_type": "text"
      },
      "source": [
        "<br>\n",
        "<p style='font-size:30px; text-align: center;'><b>RESUMO DO MÓDULO</b></p>\n",
        "<hr>\n",
        "\n",
        "<br><br>\n",
        "\n",
        "**ASSUNTO ABORDADO**\n",
        "\n",
        "Neste primeiro módulo, voltaremos nossa atenção às **estruturas estatísticas de sumarização**. \n",
        "\n",
        "Daremos uma introdução ao modo que a Estatística nos permite sintetizar massas de informação em **quantidades** ou **representações-chave**, no intuito de expressar características fundamentais e interpretáveis por trás de todo o, possivelmente confuso, registro disponível.\n",
        "\n",
        "<br><br> \n",
        "\n",
        "**OBJETIVOS**\n",
        "\n",
        "Ao final deste módulo, o aluno será capaz de fazer uma análise exploratória sistemática sobre um conjunto de informações com características quantitativas e qualitativas de uma amostra ou população de interesse.\n",
        "\n"
      ]
    },
    {
      "cell_type": "markdown",
      "metadata": {
        "id": "na0C510IVlRe",
        "colab_type": "text"
      },
      "source": [
        "---\n",
        "\n",
        "# IDEIAS BÁSICAS, MOTIVAÇÕES E APLICAÇÕES\n",
        "\n",
        "---"
      ]
    },
    {
      "cell_type": "markdown",
      "metadata": {
        "id": "BWWn4X1PVlRf",
        "colab_type": "text"
      },
      "source": [
        "Se existe uma ciência que, desde o seu nascimento, se dedicou a sistematizar todas as etapas do processo de análise de dados, desde a *coleta* até a *interpretação*, essa ciência é a **Estatística**! \n",
        "\n",
        "<br><br>\n",
        "\n",
        "Com o objetivo primordial de desenvolver metodologias que são matemática e computacionalmente embasadas para a coleta, organização, descrição, análise e interpretação de dados, a **Estatística** tem se destacadado nesses tempos em que a **Ciência de Dados** se mostra cada vez mais relevante.\n",
        "\n",
        "<br><br>\n",
        "\n",
        "Por questões didáticas, a **Estatística** pode ser dividida em dois grandes ramos, **Descritiva** e **Indutiva** (ou **Inferêncial**). "
      ]
    },
    {
      "cell_type": "markdown",
      "metadata": {
        "id": "W1sfdTTYVlRg",
        "colab_type": "text"
      },
      "source": [
        "## ESTATÍSTICA DESCRITIVA\n",
        "\n",
        "<br> \n",
        "\n",
        "A Estatística Descritiva é uma coleção de técnicas cujo propósito é descrever e resumir um conjunto de dados. É a primeira etapa de uma boa análise. Os resumos, em geral, correspondem à obtenção de **quantidades-chave** ou **representações-chave** com potencial de promover interpretações práticas que permitem o entendimento do comportamento geral de uma massa de dados.\n",
        "\n",
        "<br> \n",
        "\n",
        "## ESTATÍSTICA INDUTIVA (OU INFERÊNCIA ESTATÍSTICA)\n",
        "\n",
        "<br> \n",
        "\n",
        "A Inferência Estatística, por outro lado, é uma coleção de técnicas baseadas na **Teoria das Probabilidades** que, a partir de dados amostrais, nos permitem tirar conclusões acerca da população de interesse. Essa etapa é posterior à etapa descritiva e é comumente utilizada para confirmar ou contrariar percepções levantadas no passo anterior. \n",
        "\n",
        "\n",
        "Uma vez que a abordagem proposta (em termos de modelos inferenciais) for devidamente validada, podemos utilizá-la para extrapolar os resultados obtidos para toda a população, entendendo o seu comportamento e, acima de tudo, quantificando e entendendo o padrão aleatório dos erros envolvidos no processo de estimação."
      ]
    },
    {
      "cell_type": "markdown",
      "metadata": {
        "id": "Pt6HorHMVlRh",
        "colab_type": "text"
      },
      "source": [
        "## MOTIVAÇÕES E APLICAÇÕES\n",
        "\n",
        "<br> \n",
        "\n",
        "Os métodos estatísticos se aplicam em uma infinidade de contextos. Qualquer área que lide com a coleta, registro e análise de informações pode aproveitar o uso de metodologias estatísticas, a área de seguros não é diferente. "
      ]
    },
    {
      "cell_type": "markdown",
      "metadata": {
        "id": "q6snMj-cVlRh",
        "colab_type": "text"
      },
      "source": [
        "---\n",
        "\n",
        "# CONCEITOS FUNDAMENTAIS\n",
        "\n",
        "---"
      ]
    },
    {
      "cell_type": "markdown",
      "metadata": {
        "id": "etsjc1DeVlRi",
        "colab_type": "text"
      },
      "source": [
        "## POPULAÇÃO\n",
        "\n",
        "<br> \n",
        "\n",
        "Denota o conjunto de todos os possíveis valores de uma característica observável associada a uma coleção de indivíduos, animais ou objetos. \n",
        "\n",
        "> **EXEMPLOS**\n",
        ">\n",
        "> - O conjunto de todas as rendas familiares de todos os clientes de uma agência seguradora;\n",
        "> - O conjunto de todas as franquias de seguros fechadas no ano de 2019."
      ]
    },
    {
      "cell_type": "markdown",
      "metadata": {
        "id": "HR7ed5h1VlRi",
        "colab_type": "text"
      },
      "source": [
        "## CENSO\n",
        "\n",
        "<br> \n",
        "\n",
        "Quando, em um estudo, o interesse reside em avaliar todos os elementos pertencentes à população. É um recorte exato da população em um momento específico no tempo.\n",
        "\n",
        "> **EXEMPLOS**\n",
        ">\n",
        "> - Censo Demográfico - IBGE;\n",
        "> - Determinação do perfil socio-demográfico dos profissionais de uma empresa específica, avaliando-se a totalidade dos funcionários."
      ]
    },
    {
      "cell_type": "markdown",
      "metadata": {
        "id": "qe-qNyh4VlRj",
        "colab_type": "text"
      },
      "source": [
        "## AMOSTRA\n",
        "\n",
        "<br> \n",
        "\n",
        "É qualquer parte ou subconjunto finito de elementos extraídos da população. \n",
        "\n",
        "> **EXEMPLOS**\n",
        ">\n",
        "> - Renda familiar de **alguns** clientes selecionados de uma agência seguradora;\n",
        "> - Uma **fração representativa** das franquias de seguros fechadas no ano de 2019."
      ]
    },
    {
      "cell_type": "markdown",
      "metadata": {
        "id": "y53E9SfdVlRj",
        "colab_type": "text"
      },
      "source": [
        "## VARIÁVEL\n",
        "\n",
        "<br> \n",
        "\n",
        "Uma variável representa qualquer característica ou atributo de interesse associado a uma população. \n",
        "\n",
        "É sobre essas características que a estatística vai trabalhar \n",
        "\n",
        "> **EXEMPLOS**\n",
        ">\n",
        "> - Qualquer característica sócio-demográfica do cliente de uma agência seguradora, como: \n",
        ">   - Sexo;\n",
        ">   - Idade;\n",
        ">   - Estado civil;\n",
        ">   - Renda familiar;\n",
        ">   - etc."
      ]
    },
    {
      "cell_type": "markdown",
      "metadata": {
        "id": "7lDAvRZJVlRk",
        "colab_type": "text"
      },
      "source": [
        "As variáveis podem ser classificadas da seguinte forma:\n",
        "\n",
        "$$\n",
        "\\begin{array}\n",
        "    \\mbox{Qualitativas:} & \n",
        "    \\left\\{\n",
        "        \\begin{array}\\\\\n",
        "            \\text{Nominais} & \\text{ex: sexo, estado civil, cor dos olhos} \\\\\n",
        "            \\text{Ordinais} & \\text{ex: escolaridade, categoria de cliente}\n",
        "        \\end{array}\n",
        "    \\right. \\\\ \\\\\n",
        "    \\mbox{Quantitativas:} & \n",
        "    \\left\\{\n",
        "        \\begin{array}\\\\\n",
        "            \\text{Discretas} & \\text{ex: número de meses com pagamento em atraso} \\\\\n",
        "            \\text{Contínuas} & \\text{ex: idade, peso, pressão arterial}\n",
        "        \\end{array}\n",
        "    \\right.\n",
        "\\end{array}\n",
        "$$\n",
        "\n",
        "<br> \n"
      ]
    },
    {
      "cell_type": "markdown",
      "metadata": {
        "id": "Tplxs56AVlRk",
        "colab_type": "text"
      },
      "source": [
        "---\n",
        "\n",
        "# ESTRUTURAS DE SUMARIZAÇÃO\n",
        "\n",
        "---"
      ]
    },
    {
      "cell_type": "markdown",
      "metadata": {
        "id": "D6jgT52ZVlRl",
        "colab_type": "text"
      },
      "source": [
        "## MEDIDAS DE POSIÇÃO\n",
        "\n",
        "<br>\n",
        "\n",
        "As **medidas de posição** (ou **medidas de tendência central**) resumem informações ao retornarem um valor sobre o qual todos os outros se distribuem com maior frequência. São pontos de concentração.\n",
        "\n",
        "<br>\n",
        "\n",
        "Um resumo desses nos permite ter uma primeira percepção sobre qualquer quantidade de registros. Deixamos de tatear, por exemplo, uma grande tabela numérica às cegas, e entendemos sobre qual valor os registros se distribuem com maior ou menor frequência.\n",
        "\n",
        "<br>\n",
        "\n",
        "As principais medidas de posição são:\n",
        "    \n",
        "- Média aritmética\n",
        "- Moda\n",
        "- Separatrizes (mediana, quartis, decis, percentis)"
      ]
    },
    {
      "cell_type": "markdown",
      "metadata": {
        "id": "Z_WfPrSAVlRl",
        "colab_type": "text"
      },
      "source": [
        "### Média Aritmética Simples\n",
        "\n",
        "<br>\n",
        "\n",
        "A **média aritmética simples** (ou apenas **média**) é a medida de posição mais utilizada. Possui fácil interpretação e não distingue os valores entre si. Todos as observações são igualmente importantes para o cálculo dessa média.\n",
        "\n",
        "<br>\n",
        "\n",
        "> <hr>\n",
        ">\n",
        "> **DEFINIÇÃO**\n",
        ">\n",
        "> Sejam $x_{1}, x_{2}, \\ldots, x_{n}$ valores observados de uma variável $X$. A **média aritmética simples** associada a esses valores é calculada como:\n",
        "> <br>\n",
        "> $$ \\overline{X} = \\frac{1}{n}\\sum_{i=1}^{n} x_{i} $$\n",
        "> <br>\n",
        "> <hr>"
      ]
    },
    {
      "cell_type": "markdown",
      "metadata": {
        "id": "fx94hvyHVlRl",
        "colab_type": "text"
      },
      "source": [
        "> **OBSERVAÇÕES**\n",
        ">\n",
        "> - Ao trabalharmos com todos os $N$ elementos da população, geralmente denotamos a média por $\\mu$ (indicando a **média populacional**) e a calculamos por:   \n",
        "> <br>\n",
        "> $$ \\mu = \\frac{1}{N}\\sum_{i=1}^{N} x_{i} $$ \n",
        "> \n",
        "> \n",
        "> - A média aritmética simples é sensível a valores extremos, isto é, seu valor é alterado dramaticamente na presença de uma observação de magnitude muito discrepante das demais. Isso faz com que a média deixe de ter a representatividade que se espera dela.\n",
        "> "
      ]
    },
    {
      "cell_type": "markdown",
      "metadata": {
        "id": "2scpjOn-VlRm",
        "colab_type": "text"
      },
      "source": [
        "> **EXEMPLO**\n",
        ">\n",
        "> Considere os dados de Receitas da Susep (Superintendência de Seguros Privados), consultados no Portal da Transparência do Governo Federal. Esses dados são dos anos 2013 a 2020 e podem ser acessados [nesse link](http://www.susep.gov.br/menu/acesso-a-informacao/despesas).\n",
        ">\n",
        "> Independente de qualquer detalhamento, qual é a **média** do  Valor Arrecadado, representado pela variável **Receita Realizada (Valor Arrecadado)**?\n",
        ">\n",
        "> <hr>\n",
        ">\n",
        "> *Para calcularmos o Valor Arrecadado médio, vamos carregar a planilha como um **Pandas DataFrame**. Em seguida, utilizamos o método **.mean()** associado a ele.*"
      ]
    },
    {
      "cell_type": "code",
      "metadata": {
        "scrolled": true,
        "id": "ZfEJeag9VlRm",
        "colab_type": "code",
        "colab": {
          "base_uri": "https://localhost:8080/",
          "height": 443
        },
        "outputId": "4895e908-0480-4777-bb56-154f27f83aba"
      },
      "source": [
        "# Receitas da Susep por meio de consulta ao Portal da Transparência do Governo Federal\n",
        "# http://www.susep.gov.br/menu/acesso-a-informacao/despesas\n",
        "# ---\n",
        "\n",
        "# Carregando um arquivo .csv\n",
        "# ---\n",
        "# help(pd.read_csv)\n",
        "# ---\n",
        "f = lambda x : pd.to_numeric(x.replace(\",\",\".\").replace(\"%\",\"\"))\n",
        "data = pd.read_csv('/content/receitas.csv', \n",
        "                   sep=';', \n",
        "                   decimal=',',\n",
        "                   converters={'Orçamento Atualizado (Valor Previsto)':f,\n",
        "                              'Receita Realizada (Valor Arrecadado)':f,\n",
        "                              '% Previsto/Realizado':f}\n",
        "                  )\n",
        "print(\"Número de linhas e colunas:\", data.shape)\n",
        "data.head(2)"
      ],
      "execution_count": null,
      "outputs": [
        {
          "output_type": "error",
          "ename": "FileNotFoundError",
          "evalue": "ignored",
          "traceback": [
            "\u001b[0;31m---------------------------------------------------------------------------\u001b[0m",
            "\u001b[0;31mFileNotFoundError\u001b[0m                         Traceback (most recent call last)",
            "\u001b[0;32m<ipython-input-3-44dba08d49fa>\u001b[0m in \u001b[0;36m<module>\u001b[0;34m()\u001b[0m\n\u001b[1;32m     13\u001b[0m                    converters={'Orçamento Atualizado (Valor Previsto)':f,\n\u001b[1;32m     14\u001b[0m                               \u001b[0;34m'Receita Realizada (Valor Arrecadado)'\u001b[0m\u001b[0;34m:\u001b[0m\u001b[0mf\u001b[0m\u001b[0;34m,\u001b[0m\u001b[0;34m\u001b[0m\u001b[0;34m\u001b[0m\u001b[0m\n\u001b[0;32m---> 15\u001b[0;31m                               '% Previsto/Realizado':f}\n\u001b[0m\u001b[1;32m     16\u001b[0m                   )\n\u001b[1;32m     17\u001b[0m \u001b[0mprint\u001b[0m\u001b[0;34m(\u001b[0m\u001b[0;34m\"Número de linhas e colunas:\"\u001b[0m\u001b[0;34m,\u001b[0m \u001b[0mdata\u001b[0m\u001b[0;34m.\u001b[0m\u001b[0mshape\u001b[0m\u001b[0;34m)\u001b[0m\u001b[0;34m\u001b[0m\u001b[0;34m\u001b[0m\u001b[0m\n",
            "\u001b[0;32m/usr/local/lib/python3.6/dist-packages/pandas/io/parsers.py\u001b[0m in \u001b[0;36mparser_f\u001b[0;34m(filepath_or_buffer, sep, delimiter, header, names, index_col, usecols, squeeze, prefix, mangle_dupe_cols, dtype, engine, converters, true_values, false_values, skipinitialspace, skiprows, skipfooter, nrows, na_values, keep_default_na, na_filter, verbose, skip_blank_lines, parse_dates, infer_datetime_format, keep_date_col, date_parser, dayfirst, cache_dates, iterator, chunksize, compression, thousands, decimal, lineterminator, quotechar, quoting, doublequote, escapechar, comment, encoding, dialect, error_bad_lines, warn_bad_lines, delim_whitespace, low_memory, memory_map, float_precision)\u001b[0m\n\u001b[1;32m    674\u001b[0m         )\n\u001b[1;32m    675\u001b[0m \u001b[0;34m\u001b[0m\u001b[0m\n\u001b[0;32m--> 676\u001b[0;31m         \u001b[0;32mreturn\u001b[0m \u001b[0m_read\u001b[0m\u001b[0;34m(\u001b[0m\u001b[0mfilepath_or_buffer\u001b[0m\u001b[0;34m,\u001b[0m \u001b[0mkwds\u001b[0m\u001b[0;34m)\u001b[0m\u001b[0;34m\u001b[0m\u001b[0;34m\u001b[0m\u001b[0m\n\u001b[0m\u001b[1;32m    677\u001b[0m \u001b[0;34m\u001b[0m\u001b[0m\n\u001b[1;32m    678\u001b[0m     \u001b[0mparser_f\u001b[0m\u001b[0;34m.\u001b[0m\u001b[0m__name__\u001b[0m \u001b[0;34m=\u001b[0m \u001b[0mname\u001b[0m\u001b[0;34m\u001b[0m\u001b[0;34m\u001b[0m\u001b[0m\n",
            "\u001b[0;32m/usr/local/lib/python3.6/dist-packages/pandas/io/parsers.py\u001b[0m in \u001b[0;36m_read\u001b[0;34m(filepath_or_buffer, kwds)\u001b[0m\n\u001b[1;32m    446\u001b[0m \u001b[0;34m\u001b[0m\u001b[0m\n\u001b[1;32m    447\u001b[0m     \u001b[0;31m# Create the parser.\u001b[0m\u001b[0;34m\u001b[0m\u001b[0;34m\u001b[0m\u001b[0;34m\u001b[0m\u001b[0m\n\u001b[0;32m--> 448\u001b[0;31m     \u001b[0mparser\u001b[0m \u001b[0;34m=\u001b[0m \u001b[0mTextFileReader\u001b[0m\u001b[0;34m(\u001b[0m\u001b[0mfp_or_buf\u001b[0m\u001b[0;34m,\u001b[0m \u001b[0;34m**\u001b[0m\u001b[0mkwds\u001b[0m\u001b[0;34m)\u001b[0m\u001b[0;34m\u001b[0m\u001b[0;34m\u001b[0m\u001b[0m\n\u001b[0m\u001b[1;32m    449\u001b[0m \u001b[0;34m\u001b[0m\u001b[0m\n\u001b[1;32m    450\u001b[0m     \u001b[0;32mif\u001b[0m \u001b[0mchunksize\u001b[0m \u001b[0;32mor\u001b[0m \u001b[0miterator\u001b[0m\u001b[0;34m:\u001b[0m\u001b[0;34m\u001b[0m\u001b[0;34m\u001b[0m\u001b[0m\n",
            "\u001b[0;32m/usr/local/lib/python3.6/dist-packages/pandas/io/parsers.py\u001b[0m in \u001b[0;36m__init__\u001b[0;34m(self, f, engine, **kwds)\u001b[0m\n\u001b[1;32m    878\u001b[0m             \u001b[0mself\u001b[0m\u001b[0;34m.\u001b[0m\u001b[0moptions\u001b[0m\u001b[0;34m[\u001b[0m\u001b[0;34m\"has_index_names\"\u001b[0m\u001b[0;34m]\u001b[0m \u001b[0;34m=\u001b[0m \u001b[0mkwds\u001b[0m\u001b[0;34m[\u001b[0m\u001b[0;34m\"has_index_names\"\u001b[0m\u001b[0;34m]\u001b[0m\u001b[0;34m\u001b[0m\u001b[0;34m\u001b[0m\u001b[0m\n\u001b[1;32m    879\u001b[0m \u001b[0;34m\u001b[0m\u001b[0m\n\u001b[0;32m--> 880\u001b[0;31m         \u001b[0mself\u001b[0m\u001b[0;34m.\u001b[0m\u001b[0m_make_engine\u001b[0m\u001b[0;34m(\u001b[0m\u001b[0mself\u001b[0m\u001b[0;34m.\u001b[0m\u001b[0mengine\u001b[0m\u001b[0;34m)\u001b[0m\u001b[0;34m\u001b[0m\u001b[0;34m\u001b[0m\u001b[0m\n\u001b[0m\u001b[1;32m    881\u001b[0m \u001b[0;34m\u001b[0m\u001b[0m\n\u001b[1;32m    882\u001b[0m     \u001b[0;32mdef\u001b[0m \u001b[0mclose\u001b[0m\u001b[0;34m(\u001b[0m\u001b[0mself\u001b[0m\u001b[0;34m)\u001b[0m\u001b[0;34m:\u001b[0m\u001b[0;34m\u001b[0m\u001b[0;34m\u001b[0m\u001b[0m\n",
            "\u001b[0;32m/usr/local/lib/python3.6/dist-packages/pandas/io/parsers.py\u001b[0m in \u001b[0;36m_make_engine\u001b[0;34m(self, engine)\u001b[0m\n\u001b[1;32m   1112\u001b[0m     \u001b[0;32mdef\u001b[0m \u001b[0m_make_engine\u001b[0m\u001b[0;34m(\u001b[0m\u001b[0mself\u001b[0m\u001b[0;34m,\u001b[0m \u001b[0mengine\u001b[0m\u001b[0;34m=\u001b[0m\u001b[0;34m\"c\"\u001b[0m\u001b[0;34m)\u001b[0m\u001b[0;34m:\u001b[0m\u001b[0;34m\u001b[0m\u001b[0;34m\u001b[0m\u001b[0m\n\u001b[1;32m   1113\u001b[0m         \u001b[0;32mif\u001b[0m \u001b[0mengine\u001b[0m \u001b[0;34m==\u001b[0m \u001b[0;34m\"c\"\u001b[0m\u001b[0;34m:\u001b[0m\u001b[0;34m\u001b[0m\u001b[0;34m\u001b[0m\u001b[0m\n\u001b[0;32m-> 1114\u001b[0;31m             \u001b[0mself\u001b[0m\u001b[0;34m.\u001b[0m\u001b[0m_engine\u001b[0m \u001b[0;34m=\u001b[0m \u001b[0mCParserWrapper\u001b[0m\u001b[0;34m(\u001b[0m\u001b[0mself\u001b[0m\u001b[0;34m.\u001b[0m\u001b[0mf\u001b[0m\u001b[0;34m,\u001b[0m \u001b[0;34m**\u001b[0m\u001b[0mself\u001b[0m\u001b[0;34m.\u001b[0m\u001b[0moptions\u001b[0m\u001b[0;34m)\u001b[0m\u001b[0;34m\u001b[0m\u001b[0;34m\u001b[0m\u001b[0m\n\u001b[0m\u001b[1;32m   1115\u001b[0m         \u001b[0;32melse\u001b[0m\u001b[0;34m:\u001b[0m\u001b[0;34m\u001b[0m\u001b[0;34m\u001b[0m\u001b[0m\n\u001b[1;32m   1116\u001b[0m             \u001b[0;32mif\u001b[0m \u001b[0mengine\u001b[0m \u001b[0;34m==\u001b[0m \u001b[0;34m\"python\"\u001b[0m\u001b[0;34m:\u001b[0m\u001b[0;34m\u001b[0m\u001b[0;34m\u001b[0m\u001b[0m\n",
            "\u001b[0;32m/usr/local/lib/python3.6/dist-packages/pandas/io/parsers.py\u001b[0m in \u001b[0;36m__init__\u001b[0;34m(self, src, **kwds)\u001b[0m\n\u001b[1;32m   1889\u001b[0m         \u001b[0mkwds\u001b[0m\u001b[0;34m[\u001b[0m\u001b[0;34m\"usecols\"\u001b[0m\u001b[0;34m]\u001b[0m \u001b[0;34m=\u001b[0m \u001b[0mself\u001b[0m\u001b[0;34m.\u001b[0m\u001b[0musecols\u001b[0m\u001b[0;34m\u001b[0m\u001b[0;34m\u001b[0m\u001b[0m\n\u001b[1;32m   1890\u001b[0m \u001b[0;34m\u001b[0m\u001b[0m\n\u001b[0;32m-> 1891\u001b[0;31m         \u001b[0mself\u001b[0m\u001b[0;34m.\u001b[0m\u001b[0m_reader\u001b[0m \u001b[0;34m=\u001b[0m \u001b[0mparsers\u001b[0m\u001b[0;34m.\u001b[0m\u001b[0mTextReader\u001b[0m\u001b[0;34m(\u001b[0m\u001b[0msrc\u001b[0m\u001b[0;34m,\u001b[0m \u001b[0;34m**\u001b[0m\u001b[0mkwds\u001b[0m\u001b[0;34m)\u001b[0m\u001b[0;34m\u001b[0m\u001b[0;34m\u001b[0m\u001b[0m\n\u001b[0m\u001b[1;32m   1892\u001b[0m         \u001b[0mself\u001b[0m\u001b[0;34m.\u001b[0m\u001b[0munnamed_cols\u001b[0m \u001b[0;34m=\u001b[0m \u001b[0mself\u001b[0m\u001b[0;34m.\u001b[0m\u001b[0m_reader\u001b[0m\u001b[0;34m.\u001b[0m\u001b[0munnamed_cols\u001b[0m\u001b[0;34m\u001b[0m\u001b[0;34m\u001b[0m\u001b[0m\n\u001b[1;32m   1893\u001b[0m \u001b[0;34m\u001b[0m\u001b[0m\n",
            "\u001b[0;32mpandas/_libs/parsers.pyx\u001b[0m in \u001b[0;36mpandas._libs.parsers.TextReader.__cinit__\u001b[0;34m()\u001b[0m\n",
            "\u001b[0;32mpandas/_libs/parsers.pyx\u001b[0m in \u001b[0;36mpandas._libs.parsers.TextReader._setup_parser_source\u001b[0;34m()\u001b[0m\n",
            "\u001b[0;31mFileNotFoundError\u001b[0m: [Errno 2] File /content/receitas.csv does not exist: '/content/receitas.csv'"
          ]
        }
      ]
    },
    {
      "cell_type": "code",
      "metadata": {
        "scrolled": true,
        "id": "ygZgZ1O0VlRq",
        "colab_type": "code",
        "colab": {
          "base_uri": "https://localhost:8080/",
          "height": 232
        },
        "outputId": "2a213a85-5832-4c42-f4d5-8669fecf2dfe"
      },
      "source": [
        "# Dados\n",
        "# ---\n",
        "X_bar = data['Receita Realizada (Valor Arrecadado)'].mean()\n",
        "X_bar = round(X_bar,2)\n",
        "\n",
        "# Printando o resultado\n",
        "# ---\n",
        "print(\"A receita média dentre todos os anos e detalhamentos é de aproximadamente\\nR$\", X_bar) "
      ],
      "execution_count": null,
      "outputs": [
        {
          "output_type": "error",
          "ename": "NameError",
          "evalue": "ignored",
          "traceback": [
            "\u001b[0;31m---------------------------------------------------------------------------\u001b[0m",
            "\u001b[0;31mNameError\u001b[0m                                 Traceback (most recent call last)",
            "\u001b[0;32m<ipython-input-4-f50c3c484208>\u001b[0m in \u001b[0;36m<module>\u001b[0;34m()\u001b[0m\n\u001b[1;32m      1\u001b[0m \u001b[0;31m# Dados\u001b[0m\u001b[0;34m\u001b[0m\u001b[0;34m\u001b[0m\u001b[0;34m\u001b[0m\u001b[0m\n\u001b[1;32m      2\u001b[0m \u001b[0;31m# ---\u001b[0m\u001b[0;34m\u001b[0m\u001b[0;34m\u001b[0m\u001b[0;34m\u001b[0m\u001b[0m\n\u001b[0;32m----> 3\u001b[0;31m \u001b[0mX_bar\u001b[0m \u001b[0;34m=\u001b[0m \u001b[0mdata\u001b[0m\u001b[0;34m[\u001b[0m\u001b[0;34m'Receita Realizada (Valor Arrecadado)'\u001b[0m\u001b[0;34m]\u001b[0m\u001b[0;34m.\u001b[0m\u001b[0mmean\u001b[0m\u001b[0;34m(\u001b[0m\u001b[0;34m)\u001b[0m\u001b[0;34m\u001b[0m\u001b[0;34m\u001b[0m\u001b[0m\n\u001b[0m\u001b[1;32m      4\u001b[0m \u001b[0mX_bar\u001b[0m \u001b[0;34m=\u001b[0m \u001b[0mround\u001b[0m\u001b[0;34m(\u001b[0m\u001b[0mX_bar\u001b[0m\u001b[0;34m,\u001b[0m\u001b[0;36m2\u001b[0m\u001b[0;34m)\u001b[0m\u001b[0;34m\u001b[0m\u001b[0;34m\u001b[0m\u001b[0m\n\u001b[1;32m      5\u001b[0m \u001b[0;34m\u001b[0m\u001b[0m\n",
            "\u001b[0;31mNameError\u001b[0m: name 'data' is not defined"
          ]
        }
      ]
    },
    {
      "cell_type": "markdown",
      "metadata": {
        "id": "yfB6hC6wVlRs",
        "colab_type": "text"
      },
      "source": [
        "### Média Aritmética Ponderada\n",
        "\n",
        "<br>\n",
        "\n",
        "A **média aritmética ponderada** (ou apenas **média ponderada**) é uma medida de posição que faz distinção entre os valores, por considerar que alguns deles se expressa com maior frequência, ou tem maior peso sobre as demais ovservações. Além dos valores observados, essa média leva em consideração um conjunto de pesos associados.\n",
        "\n",
        "<br>\n",
        "\n",
        "> <hr>\n",
        ">\n",
        "> **DEFINIÇÃO**\n",
        ">\n",
        "> Sejam $x_{1}, x_{2}, \\ldots, x_{n}$ valores observados de uma variável $X$, e $w_{1}, w_{2}, \\ldots, w_{n}$ os seus respectivos pesos. A **média aritmética ponderada** é calculada como:\n",
        "$$\n",
        "    \\overline{X} =\n",
        "    \\frac{\\sum\\limits_{i=1}^{n} x_{i}w_{i}}{\n",
        "    \\sum\\limits_{i=1}^{n} w_{i}}\n",
        "$$\n",
        ">\n",
        "> <hr>"
      ]
    },
    {
      "cell_type": "markdown",
      "metadata": {
        "id": "kQS1wK0hVlRt",
        "colab_type": "text"
      },
      "source": [
        "> **EXEMPLO**\n",
        ">\n",
        "> Considere os dados de Receitas da Susep (Superintendência de Seguros Privados), utilizados no exemplo anterior.\n",
        ">\n",
        "> Suponha para fins didáticos, que com base nesses dados históricos, algum gestor inferiu que as receitas para o ano seguinte poderiam ser previstas. Ele acredita que, por exemplo, as receitas da **Espécie: 112 - Taxas** serão aproximadamente 2 vezes às dos anos anteriores (atribuindo-lhe um peso $w_{1}=2$). De modo análogo, ele acredita que as despesas da **Espécie: 000 - Sem informação** não vão mais existir (atribuindo-lhe um peso $w_{2}=0$). Ao término de sua análise, o gestor tem um vetor de pesos que associa, à cada **Espécie**, sua própria percepção sobre os rendimentos futuros.\n",
        ">\n",
        "> Novamente, independente de qualquer detalhamento, e considerando as ponderações definidas, qual é a **média ponderada** do  Valor Arrecadado?\n",
        ">\n",
        "> <hr>\n",
        ">\n",
        "> *Para calcularmos o Valor Arrecadado médio ponderado, vamos definir uma função que retornará o peso associado a cada **Espécie** observada no conjunto de dados. Em seguida, criamos a variável **Pesos Ficticios** no conjunto inicial. Utilizamos a função **.average()** (da biblioteca **numpy**) com a opção **weights**, para setar o peso de cada observação.* "
      ]
    },
    {
      "cell_type": "code",
      "metadata": {
        "scrolled": true,
        "id": "X-O_qhLSVlRv",
        "colab_type": "code",
        "colab": {
          "base_uri": "https://localhost:8080/",
          "height": 50
        },
        "outputId": "fb8f5449-a08b-4d20-8bd5-1531b851c336"
      },
      "source": [
        "# Função \"average()\" do módulo \"numpy\"\n",
        "  \n",
        "import numpy as np\n",
        "  \n",
        "def pesos(c):\n",
        "    mapping = {'112 - Taxas': 2, \n",
        "               '000 - Sem informação': 0, \n",
        "               '131 - Exploração do patrimônio imobiliário do Estado': 1,\n",
        "               '132 - Valores Mobiliários': 1,\n",
        "               '139 - Demais receitas patrimoniais': 1,\n",
        "               '161 - Serviços Administrativos e Comerciais Gerais': 1,\n",
        "               '164 - Serviços e Atividades Financeiras': 1,\n",
        "               '191 - Multas administrativas, contratuais e judiciais': 1,\n",
        "               '192 - Indenizações, restituições e ressarcimentos': 1,\n",
        "               '193 - Bens, Direitos e Valores Incorporados ao Patrimônio Público': 1,\n",
        "               '199 - Demais receitas correntes': 1,\n",
        "               '211 - Operações de crédito - mercado interno': 1,\n",
        "               '792 - Indenizações e restituições': 1,\n",
        "               '799 - Demais receitas correntes': 1\n",
        "              }\n",
        "    return mapping.get(c['Espécie'],0)\n",
        "\n",
        "# Dados\n",
        "# ---\n",
        "data['Pesos Ficticios'] = data.apply(pesos, axis=1)\n",
        "X = data['Receita Realizada (Valor Arrecadado)']\n",
        "W = data['Pesos Ficticios']\n",
        "\n",
        "X_w_bar = np.average(a = X, weights = W) \n",
        "X_w_bar = round(X_w_bar,2)\n",
        "  \n",
        "# Printando o resultado\n",
        "# ---\n",
        "print(\"A receita média dentre todos os anos e detalhamentos (ponderada pela definição 'pesos') é de aproximadamente\\nR$:\", X_w_bar) "
      ],
      "execution_count": null,
      "outputs": [
        {
          "output_type": "stream",
          "text": [
            "A receita média dentre todos os anos e detalhamentos (ponderada pela definição 'pesos') é de aproximadamente\n",
            "R$: 28051986.55\n"
          ],
          "name": "stdout"
        }
      ]
    },
    {
      "cell_type": "markdown",
      "metadata": {
        "id": "ONhE7AQQVlRz",
        "colab_type": "text"
      },
      "source": [
        "### Moda\n",
        "\n",
        "A **moda** é o valor (ou atributo) que ocorre com maior frequência em um conjunto de dados. Ela representa o valor que mais provávelmente será observado em um experimento.\n",
        "\n",
        "<br>\n",
        "\n",
        "> <hr>\n",
        ">\n",
        "> **DEFINIÇÃO**\n",
        ">\n",
        "> Sejam $x_{1}, x_{2}, \\ldots, x_{n}$ valores observados de uma variável $X$, a **moda** (ou **valor modal**) é dado por:\n",
        "> <br>\n",
        ">\n",
        "> $$ \\operatorname{Mod} = X_{\\text{freq}} $$ \n",
        "> <br>\n",
        "> em que $X_{\\text{freq}}$ é o valor mais frequente obsevado em $x_{1}, x_{2}, \\ldots, x_{n}$.\n",
        ">\n",
        "> <hr>\n",
        "\n",
        "<br>"
      ]
    },
    {
      "cell_type": "markdown",
      "metadata": {
        "id": "uc35Td9QVlR0",
        "colab_type": "text"
      },
      "source": [
        "> **OBSERVAÇÃO**\n",
        ">\n",
        "> - Os valores de uma variável podem se distribuir igualmente em todas as suas possibilidades, não possuindo qualquer moda. Por outro lado, eles podem se distribuir de modo desigual, acumulando-se em um ou mais valores distintos, possuindo uma única ou mais do que uma moda. Com respeito à essa característica, dizemos que o modo como uma variável se distribui pode ser:\n",
        ">\n",
        ">   - **Amodal:** Quando não apresenta um valor mais frequente;\n",
        ">   - **Unimodal:** Quando apresenta um único valor mais frequente que todos os outros;\n",
        ">   - **Bimodal:** Quando apresenta dois valores de frequência máxima que todos os outros;\n",
        ">   - **Trimodal:** Quando apresenta três valores mais, e igualmente, frequentes que que todos os outros;\n",
        ">   - **Multimodal:** Quando apresenta mais do que três valores mais frequentes.\n",
        "> - A moda não é afetada por valores extremos."
      ]
    },
    {
      "cell_type": "code",
      "metadata": {
        "scrolled": true,
        "solution": "hidden",
        "id": "-qhEVw_qVlR0",
        "colab_type": "code",
        "colab": {
          "base_uri": "https://localhost:8080/",
          "height": 67
        },
        "outputId": "5c5b09f3-dfa4-4849-e546-62e12f55c629"
      },
      "source": [
        "# Dados\n",
        "# ---\n",
        "X_mod = data['Receita Realizada (Valor Arrecadado)'].mode()\n",
        "X_mod = round(X_mod,2)\n",
        "\n",
        "# Printando o resultado\n",
        "# ---\n",
        "print(\"A receita mais frequente entre todos os anos e detalhamentos é\\nR$\", X_mod) "
      ],
      "execution_count": null,
      "outputs": [
        {
          "output_type": "stream",
          "text": [
            "A receita mais frequente entre todos os anos e detalhamentos é\n",
            "R$ 0    0.0\n",
            "dtype: float64\n"
          ],
          "name": "stdout"
        }
      ]
    },
    {
      "cell_type": "markdown",
      "metadata": {
        "id": "6nJja5orVlR2",
        "colab_type": "text"
      },
      "source": [
        "> **INTERPRETAÇÃO DOS RESULTADOS**\n",
        ">\n",
        "> - Quando estamos lidando com variáveis cuja possibilidade de valores é expressivamente grande, ou mesmo infinita, como o caso de uma variável contínua, deve-se usar a definição anterior com cautela;"
      ]
    },
    {
      "cell_type": "code",
      "metadata": {
        "scrolled": true,
        "id": "51rqFkdTVlR3",
        "colab_type": "code",
        "colab": {
          "base_uri": "https://localhost:8080/",
          "height": 202
        },
        "outputId": "753ffea0-c6f9-4a8d-b63e-bf2238db09fa"
      },
      "source": [
        "data['Receita Realizada (Valor Arrecadado)'].value_counts(bins=10)\n",
        "\n",
        "# normalize=True\n",
        "# ascending=True\n",
        "# dropna=False"
      ],
      "execution_count": null,
      "outputs": [
        {
          "output_type": "execute_result",
          "data": {
            "text/plain": [
              "(-218917.46699999998, 21891746.646]    105\n",
              "(21891746.646, 43783493.292]             7\n",
              "(153242226.522, 175133973.168]           3\n",
              "(131350479.876, 153242226.522]           2\n",
              "(197025719.814, 218917466.46]            1\n",
              "(175133973.168, 197025719.814]           1\n",
              "(87566986.584, 109458733.23]             1\n",
              "(109458733.23, 131350479.876]            0\n",
              "(65675239.938, 87566986.584]             0\n",
              "(43783493.292, 65675239.938]             0\n",
              "Name: Receita Realizada (Valor Arrecadado), dtype: int64"
            ]
          },
          "metadata": {
            "tags": []
          },
          "execution_count": 12
        }
      ]
    },
    {
      "cell_type": "markdown",
      "metadata": {
        "solution": "shown",
        "id": "2tCRmiPAVlR5",
        "colab_type": "text"
      },
      "source": [
        "### Separatrizes\n",
        "\n",
        "As **separatrizes** (ou **quantis**) são medidas que dividem um conjunto de dados ordenados em partes de igual proporção. As principais medidas separatrizes são:\n",
        "\n",
        "- Mediana\n",
        "- Quartis\n",
        "- Decis\n",
        "- Percentis ou Centis\n"
      ]
    },
    {
      "cell_type": "markdown",
      "metadata": {
        "solution": "shown",
        "id": "HytFYCpqVlR6",
        "colab_type": "text"
      },
      "source": [
        "#### Mediana\n",
        "\n",
        "A **mediana** é o valor que divide um conjunto de dados ordenados (de forma crescente ou decrescente) em duas partes iguais, de modo que 50\\% das observações se encontra abaixo e, 50\\% das observações se encontra acima dela.\n",
        "\n",
        "<br>\n",
        "\n",
        "> <hr>\n",
        ">\n",
        "> **DEFINIÇÃO**\n",
        "> \n",
        "> Sejam $x_{1}, x_{2}, \\ldots, x_{n}$ valores observados de uma variável $X$. Considere o conjunto $x_{(1)}, x_{(2)}, \\ldots, x_{(n)}$ que denota os mesmos dados, ordenados de forma crescente ou decrescente. A **mediana** é determinada levando em conta dois casos:\n",
        ">\n",
        "> - Quando o número de observações $n$ for ímpar, a mediana é dada\n",
        "por:\n",
        ">\n",
        "> $$ \\operatorname{Med} = X_{(n+1)/2} $$\n",
        ">\n",
        "> - Quando o número de observações $n$ for par, a mediana é dada por:\n",
        ">\n",
        "> $$ \\operatorname{Med} = \\frac{X_{n/2} + X_{(n+2)/2}}{2} $$\n",
        ">\n",
        "> <hr>\n",
        "\n",
        "<br>\n"
      ]
    },
    {
      "cell_type": "markdown",
      "metadata": {
        "id": "KwTMd8roVlR6",
        "colab_type": "text"
      },
      "source": [
        "> **OBSERVAÇÃO**\n",
        ">\n",
        "> - A mediana é uma medida de posição resistente, pois não é afetada por valores atípicos (*outliers*). Ao contrário da média, que é sensível à presença de valores extremos.\n",
        "> - A mediana se relaciona empiricamente com **média** e a **moda**. A forma como essa relação acontece caracteriza a distribuição dos valores de uma variável. A seguinte tabela sintetiza essa classificação:\n",
        ">\n",
        "> | Os valores da variável<br>se distribuem de modo  | Relação entre<br> Média, Mediana e Moda |\n",
        "> | :----------------------------------------------- | :-------------------------------------- |\n",
        "> | Simétrico                                        | Média $\\approx$ Mediana $\\approx$ Moda  |\n",
        "> | Assimétrico à direita (ou assimétrico positivo)  | Média $>$ Mediana $>$ Moda              |\n",
        "> | Assimétrico à esquerda (ou assimétrico negativo) | Média $<$ Mediana $<$ Moda              |\n",
        "\n"
      ]
    },
    {
      "cell_type": "markdown",
      "metadata": {
        "id": "IKwa-0djVlR7",
        "colab_type": "text"
      },
      "source": [
        "> **EXEMPLO**\n",
        ">\n",
        "> Considere os dados de Receitas da Susep (Superintendência de Seguros Privados), utilizados no exemplo anterior.\n",
        ">\n",
        "> Independente de qualquer detalhamento, qual é a **mediana** do  Valor Arrecadado, representado pela variável **Receita Realizada (Valor Arrecadado)**? Quão distinta da **média** ela é?\n",
        ">\n",
        "> <hr>\n",
        ">\n",
        "> *Para calcularmos o Valor Arrecadado mediano, podemos utilizar o método **.median()** associado ao **Pandas DataFrame**.*\n",
        "<br>"
      ]
    },
    {
      "cell_type": "code",
      "metadata": {
        "scrolled": true,
        "id": "OcWj23WaVlR7",
        "colab_type": "code",
        "colab": {
          "base_uri": "https://localhost:8080/",
          "height": 50
        },
        "outputId": "9e7c435c-f44d-40d3-c28e-99fb43c8baa0"
      },
      "source": [
        "# Dados\n",
        "# ---\n",
        "X_med = data['Receita Realizada (Valor Arrecadado)'].median()\n",
        "X_med = round(X_med,2)\n",
        "\n",
        "# Printando o resultado\n",
        "# ---\n",
        "print(\"A receita mediana entre todos os anos e detalhamentos é R$\", X_med) \n",
        "print(\"A receita média entre todos os anos e detalhamentos é R$\", X_bar) "
      ],
      "execution_count": null,
      "outputs": [
        {
          "output_type": "stream",
          "text": [
            "A receita mediana entre todos os anos e detalhamentos é R$ 43742.89\n",
            "A receita média entre todos os anos e detalhamentos é R$ 13375059.12\n"
          ],
          "name": "stdout"
        }
      ]
    },
    {
      "cell_type": "markdown",
      "metadata": {
        "variables": {
          "X_med": "43742.89"
        },
        "id": "4iSfIn0hVlR_",
        "colab_type": "text"
      },
      "source": [
        "> **INTERPRETAÇÃO DO RESULTADO**\n",
        "> \n",
        "> - Note o quão distante da **média** está a **mediana**;\n",
        "> - A **mediana** nos diz que 50% de todas as receitas estão abaixo de R$ {{X_med}}, enquanto o 50% restante se distribui até o valor máximo observado."
      ]
    },
    {
      "cell_type": "markdown",
      "metadata": {
        "id": "cMCuo78oVlR_",
        "colab_type": "text"
      },
      "source": [
        "#### Outras separatrizes\n",
        "\n",
        "As demais **medidas separatrizes** se distinguem da mediana somente na quantidade de partes em que o conjunto de dados é dividido. As mais comuns entre elas, são\n",
        " \n",
        "- **Quartis** ($\\operatorname{Q}_{1}$, $\\operatorname{Q}_{2}$ e $\\operatorname{Q}_{3}$): dividem um conjunto em 4 partes iguais;\n",
        "- **Decis** ($\\operatorname{D}_{1}, \\ldots, \\operatorname{D}_{9}$): dividem um conjunto em 10 partes iguais;\n",
        "- **Percentis** ou **Centis** ($\\operatorname{P}_{i}, \\ldots, \\operatorname{P}_{99}$): dividem um conjunto em 100 partes iguais."
      ]
    },
    {
      "cell_type": "markdown",
      "metadata": {
        "id": "bo9LxP7JVlSA",
        "colab_type": "text"
      },
      "source": [
        "> **ALGUMAS RELAÇÕES ENTRE AS SEPARATRIZES**\n",
        ">\n",
        "> - $\\operatorname{Q}_{1} = \\operatorname{P}_{25}$;\n",
        "> - $\\operatorname{Q}_{2} = \\operatorname{D}_{5} = \\operatorname{P}_{50}$ = Med;\n",
        "> - $\\operatorname{Q}_{3} = \\operatorname{P}_{75}$;\n",
        "> - $\\operatorname{D}_{1} = \\operatorname{P}_{10}, \\ldots, \\operatorname{D}_{9} = \\operatorname{P}_{90}$.\n"
      ]
    },
    {
      "cell_type": "markdown",
      "metadata": {
        "id": "BuzCrRV-VlSA",
        "colab_type": "text"
      },
      "source": [
        "> **EXEMPLO**\n",
        ">\n",
        "> Considere os dados de Receitas da Susep (Superintendência de Seguros Privados), utilizados no exemplo anterior.\n",
        ">\n",
        "> Independente de qualquer detalhamento, quais são os três **quartis** associados ao Valor Arrecadado, representado pela variável **Receita Realizada (Valor Arrecadado)**? Que informação eles podem nos passar?\n",
        ">\n",
        "> <hr>\n",
        ">\n",
        "> *Para calcularmos os três quartis Valor Arrecadado, utilizaremos o método **.quantile()** associado ao **Pandas DataFrame**, com as opções **q = 0.25**, **q = 0.50** e **q = 0.75**.*"
      ]
    },
    {
      "cell_type": "code",
      "metadata": {
        "scrolled": true,
        "id": "59lyBpcBVlSB",
        "colab_type": "code",
        "colab": {
          "base_uri": "https://localhost:8080/",
          "height": 67
        },
        "outputId": "06e4ba30-76c0-4a37-8f73-576caf01a50a"
      },
      "source": [
        "# Dados\n",
        "# ---\n",
        "X_Q1 = data['Receita Realizada (Valor Arrecadado)'].quantile(q = 0.25)\n",
        "X_Q1 = round(X_Q1,2)\n",
        "X_Q2 = data['Receita Realizada (Valor Arrecadado)'].quantile(q = 0.50)\n",
        "X_Q2 = round(X_Q2,2)\n",
        "X_Q3 = data['Receita Realizada (Valor Arrecadado)'].quantile(q = 0.75)\n",
        "X_Q3 = round(X_Q3,2)\n",
        "\n",
        "# Printando o resultado\n",
        "# ---\n",
        "print(\"25% de todas as receitas estão abaixo de R$\", round(X_Q1,2))\n",
        "print(\"50% de todas as receitas estão abaixo de R$\", round(X_Q2,2))\n",
        "print(\"75% de todas as receitas estão abaixo de R$\", round(X_Q3,2))"
      ],
      "execution_count": null,
      "outputs": [
        {
          "output_type": "stream",
          "text": [
            "25% de todas as receitas estão abaixo de R$ 2425.04\n",
            "50% de todas as receitas estão abaixo de R$ 43742.89\n",
            "75% de todas as receitas estão abaixo de R$ 771472.23\n"
          ],
          "name": "stdout"
        }
      ]
    },
    {
      "cell_type": "markdown",
      "metadata": {
        "variables": {
          "X_Q2-X_Q1": "41317.85",
          "X_Q3-X_Q1": "769047.19",
          "X_Q3-X_Q2": "727729.34"
        },
        "id": "kH30wbuzVlSD",
        "colab_type": "text"
      },
      "source": [
        "> **INTERPRETAÇÃO DO RESULTADO**\n",
        ">\n",
        "> - Note a magnitude das diferenças: \n",
        ">   - $\\operatorname{Q}_{2}-\\operatorname{Q}_{1} = $ {{X_Q2-X_Q1}};\n",
        ">   - $\\operatorname{Q}_{3}-\\operatorname{Q}_{2} = $ {{X_Q3-X_Q2}};\n",
        ">   - $\\operatorname{Q}_{3}-\\operatorname{Q}_{1} = $ {{X_Q3-X_Q1}}.\n",
        "> - Os 25% das receitas entre $\\operatorname{Q}_{1}$ e $\\operatorname{Q}_{2}$, se concentram em uma diferença de ordem 1e3;\n",
        "> - Os 25% das receitas entre $\\operatorname{Q}_{2}$ e $\\operatorname{Q}_{3}$, se concentram em uma diferença de ordem 1e4."
      ]
    },
    {
      "cell_type": "markdown",
      "metadata": {
        "id": "8ZMsL1EbVlSD",
        "colab_type": "text"
      },
      "source": [
        "## MEDIDAS DE DISPERSÃO\n",
        "\n",
        "Embora as medidas de posição forneçam uma ideia do comportamento da variável estudada, precisamos também de uma medida que quantifique a magnitude da variabilidade ou espalhamento dos dados. "
      ]
    },
    {
      "cell_type": "markdown",
      "metadata": {
        "id": "DugbtQXiVlSE",
        "colab_type": "text"
      },
      "source": [
        "### Amplitude total\n",
        "\n",
        "A **amplitude total** (ou apenas **amplitude**) é a mais simples medida de dispersão. Ela expressa a magnitude do intervalo em que os valores foram observados. É definida pela diferença entre o maior e o menor registro de um conjunto de dados. \n",
        "\n",
        "<br>\n",
        "\n",
        "> <hr>\n",
        ">\n",
        "> **DEFINIÇÃO**\n",
        ">\n",
        "> Sejam $x_{1}, x_{2}, \\ldots, x_{n}$ valores observados de uma variável $X$. Considere o conjunto $x_{(1)},\\ldots, x_{(n)}$ que denota os mesmos dados, ordenados de forma crescente. A **amplitude** é dado por:\n",
        "> <br>\n",
        ">\n",
        "> $$ X_{\\operatorname{Amp}} = x_{(n)} - x_{(1)} $$\n",
        ">\n",
        "> <hr>\n",
        "\n",
        "<br>"
      ]
    },
    {
      "cell_type": "markdown",
      "metadata": {
        "id": "GVtNkTqnVlSE",
        "colab_type": "text"
      },
      "source": [
        "> **OBSERVAÇÕES**\n",
        ">\n",
        "> - Essa medida considera apenas os valores mínimo e máximo de um conjunto de dados. Assim, se ocorrer qualquer variação no interior do conjunto de dados, ela não dará qualquer indicação sobre essa mudança;\n",
        "> - Também sofre a influência de valores extremos."
      ]
    },
    {
      "cell_type": "markdown",
      "metadata": {
        "id": "iQfCzXlKVlSF",
        "colab_type": "text"
      },
      "source": [
        "> **EXEMPLO**\n",
        ">\n",
        "> Considere os dados de Receitas da Susep (Superintendência de Seguros Privados), utilizados no exemplo anterior.\n",
        ">\n",
        "> Independente de qualquer detalhamento, qual a **amplitude** do Valor Arrecadado, representado pela variável **Receita Realizada (Valor Arrecadado)**? Que informação essa medida pode nos passar?\n",
        ">\n",
        "> <hr>\n",
        ">\n",
        "> *Para calcularmos a amplitude do Valor Arrecadado, utilizaremos os métodos **.min()** e **.max()**, associados ao **Pandas DataFrame**. Em seguida, a amplitude é determinada pela diferença entre o valor máximo e mínimo.*"
      ]
    },
    {
      "cell_type": "code",
      "metadata": {
        "code_folding": [],
        "scrolled": true,
        "id": "0AcjZ2xWVlSF",
        "colab_type": "code",
        "colab": {
          "base_uri": "https://localhost:8080/",
          "height": 151
        },
        "outputId": "7591971e-9958-4794-fd1a-f3774908f2b4"
      },
      "source": [
        "# Dados\n",
        "# ---\n",
        "X_min = data['Receita Realizada (Valor Arrecadado)'].min()\n",
        "X_max = data['Receita Realizada (Valor Arrecadado)'].max()\n",
        "X_amp = X_max-X_min\n",
        "\n",
        "# Printando o resultado\n",
        "# ---\n",
        "print(\"A menor receita observada é de R$\", round(X_min,2))\n",
        "print(\"25% de todas as receitas estão abaixo de R$\", round(X_Q1,2))\n",
        "print(\"50% de todas as receitas estão abaixo de R$\", round(X_Q2,2))\n",
        "print(\"75% de todas as receitas estão abaixo de R$\", round(X_Q3,2))\n",
        "print(\"A maior receita observada é de R$\", round(X_max,2))\n",
        "print(\"---\")\n",
        "print(\"A receita média é de R$\", round(X_bar,2))\n",
        "print(\"A amplitude observada é de R$\", round(X_amp,2))"
      ],
      "execution_count": null,
      "outputs": [
        {
          "output_type": "stream",
          "text": [
            "A menor receita observada é de R$ 0.0\n",
            "25% de todas as receitas estão abaixo de R$ 2425.04\n",
            "50% de todas as receitas estão abaixo de R$ 43742.89\n",
            "75% de todas as receitas estão abaixo de R$ 771472.23\n",
            "A maior receita observada é de R$ 218917466.46\n",
            "---\n",
            "A receita média é de R$ 13375059.12\n",
            "A amplitude observada é de R$ 218917466.46\n"
          ],
          "name": "stdout"
        }
      ]
    },
    {
      "cell_type": "markdown",
      "metadata": {
        "variables": {
          "X_Q2-X_Q1": "41317.85",
          "X_Q3-X_Q1": "769047.19",
          "X_Q3-X_Q2": "727729.34"
        },
        "id": "T2dJYpEmVlSI",
        "colab_type": "text"
      },
      "source": [
        "> **INTERPRETAÇÃO DO RESULTADO**\n",
        ">\n",
        "> - Note a magnitude da amplitude:  \n",
        ">   - $\\operatorname{Q}_{2}-\\operatorname{Q}_{1} = $ {{X_Q2-X_Q1}};\n",
        ">   - $\\operatorname{Q}_{3}-\\operatorname{Q}_{2} = $ {{X_Q3-X_Q2}};\n",
        ">   - $\\operatorname{Q}_{3}-\\operatorname{Q}_{1} = $ {{X_Q3-X_Q1}}.\n",
        "> - Os 25% das receitas entre $\\operatorname{Q}_{1}$ e $\\operatorname{Q}_{2}$, se concentram em uma diferença de ordem 1e3;\n",
        "> - Os 25% das receitas entre $\\operatorname{Q}_{2}$ e $\\operatorname{Q}_{3}$, se concentram em uma diferença de ordem 1e4."
      ]
    },
    {
      "cell_type": "markdown",
      "metadata": {
        "id": "fbggM1msVlSI",
        "colab_type": "text"
      },
      "source": [
        "### Variância \n",
        "\n",
        "A **variância** é uma das medidas de dispersão mais comuns. Ela corresponde o valor médio dos desvios quadráticos com respeito à média.\n",
        "\n",
        "<br>\n",
        "\n",
        "> <hr>\n",
        ">\n",
        "> **DEFINIÇÃO (VARIÂNCIA POPULACIONAL)**\n",
        ">\n",
        "> Sejam $x_{1}, x_{2}, \\ldots, x_{N}$ os $N$ valores que uma variável $X$ pode assumir. A variância populacional, denotada por $\\sigma^2$, é calculada como segue:\n",
        "> $$\n",
        "    \\sigma^2 = \\frac{1}{N}\\sum\\limits_{i=1}^{N}(x_{i}-\\mu)^{2} \n",
        "    \\quad\\quad\\mbox{com}\\quad\\quad\n",
        "    \\mu = \\frac{1}{N} \\sum_{i=1}^{N} x_{i}\n",
        " $$\n",
        ">\n",
        "> <hr>\n",
        ">\n",
        "\n",
        "> <hr>\n",
        ">\n",
        "> **DEFINIÇÃO (VARIÂNCIA AMOSTRAL)**\n",
        ">\n",
        "> Se trabalharmos com uma amostra $x_{1}, x_{2}, \\ldots, x_{n}$ de tamanho $n$ extraída de uma população, devemos então calcular a variância amostral, cuja expressão é dada por:\n",
        "> $$\n",
        "    s^2 = \\frac{1}{n-1}\\sum\\limits_{i=1}^{n}(x_{i}-\\overline{x})^{2}  \\quad\\quad\\mbox{com}\\quad\\quad\n",
        "        \\overline{x} = \\frac{1}{n} \\sum_{i=1}^{n} x_{i}\n",
        "$$\n",
        ">\n",
        "> <hr>\n",
        ">"
      ]
    },
    {
      "cell_type": "markdown",
      "metadata": {
        "id": "gg-8eVCfVlSJ",
        "colab_type": "text"
      },
      "source": [
        "> **OBSERVAÇÃO**\n",
        ">\n",
        "> - Ao lidarmos com uma amostra, o numerador da variância é dado por $n−1$. Essa é uma correção do viés associado à estimação da variância populacional, que se torna mais expressivo em um contexto de amostras pequenas."
      ]
    },
    {
      "cell_type": "markdown",
      "metadata": {
        "id": "QuvArr2LVlSJ",
        "colab_type": "text"
      },
      "source": [
        "> **EXEMPLO**\n",
        ">\n",
        "> Considere os dados de Receitas da Susep (Superintendência de Seguros Privados), utilizados no exemplo anterior.\n",
        ">\n",
        "> Independente de qualquer detalhamento, qual a **variância** do Valor Arrecadado, representado pela variável **Receita Realizada (Valor Arrecadado)**? É simples interpretar essa medida?\n",
        ">\n",
        "> <hr>\n",
        ">\n",
        "> *Para calcularmos a variância do Valor Arrecadado, utilizaremos o método **.var()**, associado ao **Pandas DataFrame**.*"
      ]
    },
    {
      "cell_type": "code",
      "metadata": {
        "scrolled": true,
        "id": "FM3A3A3WVlSK",
        "colab_type": "code",
        "colab": {
          "base_uri": "https://localhost:8080/",
          "height": 50
        },
        "outputId": "2d9c910d-f55e-42dd-944c-e47a9ff8ebc0"
      },
      "source": [
        "# Dados\n",
        "# ---\n",
        "X_sig2 = data['Receita Realizada (Valor Arrecadado)'].var()\n",
        "X_sig2 = round(X_sig2,2)\n",
        "\n",
        "# Printando o resultado\n",
        "# ---\n",
        "print(\"A variância associada às receitas observadas é de\\nR$\", X_sig2, \"(em unidades quadráticas).\")"
      ],
      "execution_count": null,
      "outputs": [
        {
          "output_type": "stream",
          "text": [
            "A variância associada às receitas observadas é de\n",
            "R$ 1738914283662989.8 (em unidades quadráticas).\n"
          ],
          "name": "stdout"
        }
      ]
    },
    {
      "cell_type": "markdown",
      "metadata": {
        "id": "uMNxm6wwVlSN",
        "colab_type": "text"
      },
      "source": [
        "> **INTERPRETAÇÃO DO RESULTADO**\n",
        ">\n",
        "> - O fato da variância ser expressa em unidades quadráticas dificulta, ou mesmo impede, a interpretação imediata dessa medida;\n",
        "> - É necessário retornar à unidade original dos valores estudados."
      ]
    },
    {
      "cell_type": "markdown",
      "metadata": {
        "id": "0XDuG2F2VlSO",
        "colab_type": "text"
      },
      "source": [
        "### Desvio-padrão\n",
        "\n",
        "O **desvio-padrão** indica a variação dos valores em relação ao valor médio. É a medida de dispersão mais utilizada e é expressa como a raiz quadrada da **variância**. \n",
        "\n",
        "<br>\n",
        "\n",
        "> <hr>\n",
        ">\n",
        "> **DEFINIÇÃO (DESVIO-PADRÃO POPULACIONAL)**\n",
        ">\n",
        "> Sejam $x_{1}, x_{2}, \\ldots, x_{N}$ os $N$ valores que uma variável $X$ pode assumir. O desvio-padrão populacional, denotado por $\\sigma$, é calculado como segue:\n",
        "> $$\n",
        "    \\sigma = \\sqrt{\\frac{1}{N}\\sum\\limits_{i=1}^{N}(x_{i}-\\mu)^{2}}\n",
        "    \\quad\\quad\\mbox{com}\\quad\\quad\n",
        "    \\mu = \\frac{1}{N} \\sum_{i=1}^{N} x_{i}\n",
        "$$\n",
        ">\n",
        "> <hr>\n",
        ">\n",
        "\n",
        "> <hr>\n",
        ">\n",
        "> **DEFINIÇÃO (DESVIO-PADRÃO POPULACIONAL)**\n",
        ">\n",
        "> Ao trabalhar com uma amostra de tamanho $n$ extraída de uma população, devemos calcular o desvio-padrão amostral, denotado por $s$, cuja expressão é a seguinte:\n",
        "> $$\n",
        "    s = \\sqrt{\\frac{1}{n-1}\\sum\\limits_{i=1}^{n}(x_{i}-\\overline{x})^{2}} \\quad\\quad\\mbox{com}\\quad\\quad\n",
        "        \\overline{x} = \\frac{1}{n} \\sum_{i=1}^{n} x_{i}\n",
        "$$\n",
        ">\n",
        "> <hr>\n",
        ">"
      ]
    },
    {
      "cell_type": "markdown",
      "metadata": {
        "id": "0f86gybQVlSP",
        "colab_type": "text"
      },
      "source": [
        "> **OBSERVAÇÃO**\n",
        ">\n",
        "> - Análogo ao caso da variância, ao lidarmos com uma amostra, o numerador é dado por $n−1$. Essa é uma correção do viés associado à estimação da variância populacional, que se torna mais expressivo em um contexto de amostras pequenas;\n",
        "> - Ele tem a vantagem de ser expresso na mesma unidade de medida dos dados observados;\n",
        "> - Um desvio-padrão pequeno indica que os valores da variável em estudo estão altamente concentrados em torno da sua média. Por outro lado, um desvio-padrão alto indica que os valores se distribuem em um intervalo de tamanho considerável."
      ]
    },
    {
      "cell_type": "markdown",
      "metadata": {
        "id": "AasIckbyVlSQ",
        "colab_type": "text"
      },
      "source": [
        "> **EXEMPLO**\n",
        ">\n",
        "> Considere os dados de Receitas da Susep (Superintendência de Seguros Privados), utilizados no exemplo anterior.\n",
        ">\n",
        "> Independente de qualquer detalhamento, qual o **desvio-padrão** do Valor Arrecadado, representado pela variável **Receita Realizada (Valor Arrecadado)**? É simples interpretar essa medida?\n",
        ">\n",
        "> <hr>\n",
        ">\n",
        "> *Para calcularmos o desvio-padrão do Valor Arrecadado, utilizaremos o método **.std()**, associado ao **Pandas DataFrame**.*"
      ]
    },
    {
      "cell_type": "code",
      "metadata": {
        "scrolled": true,
        "id": "ZBVHN9cPVlSR",
        "colab_type": "code",
        "colab": {
          "base_uri": "https://localhost:8080/",
          "height": 84
        },
        "outputId": "109d5805-a812-4db1-e1f2-945dd1feecdb"
      },
      "source": [
        "# Dados\n",
        "# ---\n",
        "X_sig = data['Receita Realizada (Valor Arrecadado)'].std()\n",
        "X_sig = round(X_sig,2)\n",
        "\n",
        "# Printando o resultado\n",
        "# ---\n",
        "print(\"A receita média dentre todos os anos e detalhamentos é de aproximadamente\\nR$\", X_bar) \n",
        "print(\"O desvio-padrão associado às receitas observadas é aproximadamente\\nR$\", X_sig)"
      ],
      "execution_count": null,
      "outputs": [
        {
          "output_type": "stream",
          "text": [
            "A receita média dentre todos os anos e detalhamentos é de aproximadamente\n",
            "R$ 13375059.12\n",
            "O desvio-padrão associado às receitas observadas é aproximadamente\n",
            "R$ 41700291.17\n"
          ],
          "name": "stdout"
        }
      ]
    },
    {
      "cell_type": "markdown",
      "metadata": {
        "id": "5Vm6P-PWVlSV",
        "colab_type": "text"
      },
      "source": [
        "> **INTERPRETAÇÃO DO RESULTADO**\n",
        ">\n",
        "> - O desvio-padrão das receitas equivale a aproximadamente 3x o valor da média;\n",
        "> - Tem-se um indicativo de altíssima variabilidade. "
      ]
    },
    {
      "cell_type": "markdown",
      "metadata": {
        "id": "fheuozrGVlSW",
        "colab_type": "text"
      },
      "source": [
        "### Coeficiente de variação de Pearson\n",
        "\n",
        "O **coeficiente de variação de Pearson** (ou simplesmente **coeficiente de variação**) é uma medida de dispersão relativa usada quando temos interesse em comparar a variabilidade de 2 ou mais variáveis, possivelmente expressas em unidades de medida diferentes, ou cujas médias são bastante desiguais.\n",
        "\n",
        "<br>\n",
        "\n",
        "> <hr>\n",
        ">\n",
        "> **DEFINIÇÃO (COEFICIENTE DE VARIAÇÃO - POPULACIONAL)**\n",
        ">\n",
        "> Sejam $x_{1}, x_{2}, \\ldots, x_{N}$ os $N$ valores que uma variável $X$ pode assumir. O coeficiente de variação populacional é calculado como segue:\n",
        "> $$\n",
        "    \\operatorname{CV}_{\\operatorname{P}} = \n",
        "    \\frac{\\sigma}{\\mu}\\times100\\%\n",
        " $$\n",
        ">\n",
        "> <hr>\n",
        ">\n",
        "\n",
        "> <hr>\n",
        ">\n",
        "> **DEFINIÇÃO (COEFICIENTE DE VARIAÇÃO - AMOSTRAL)**\n",
        ">\n",
        "> Se trabalharmos com uma amostra $x_{1}, x_{2}, \\ldots, x_{n}$ de tamanho $n$ extraída de uma população, devemos então calcular o coeficiente de variação amostral, cuja expressão é dada por:\n",
        "> $$\n",
        "    \\operatorname{CV}_{\\operatorname{A}} = \n",
        "    \\frac{s}{\\overline{X}}\\times100\\%\n",
        " $$\n",
        ">\n",
        "> <hr>\n",
        ">"
      ]
    },
    {
      "cell_type": "markdown",
      "metadata": {
        "id": "eknCMXpAVlSX",
        "colab_type": "text"
      },
      "source": [
        "> **OBSERVAÇÃO**\n",
        ">\n",
        "> - O coeficiente de variação de Pearson nos permite entender a magnitude do desvio-padrão em unidades de média;\n",
        "> - Quando o coeficiente de variação de Pearson é muito próximo de 0%, entendemos que o desvio-padrão representa uma fração ínfima da média, de modo que existe pouquíssima variabilidade associada à variável em estudo;\n",
        "> - Por outro lado, quando o coeficiente de variação de Pearson é maior do que 100%, entendemos que o desvio-padrão supera a média em magnitude e, portanto, estamos em um contexto de alta variabilidade.\n",
        "> Para categorizar a magnitude da variação em classes menos subjetivas existem algumas propostas na literatura. Uma delas é a seguinte:\n",
        ">\n",
        "> | Intervalo do <br> coeficiente de variação | Classificação |\n",
        "> | :-------------------- | :------------------------------------- |\n",
        "> | CV $\\leq$ 10%         | A variação é considerada pequena       |\n",
        "> | 10% $<$ CV $\\leq$ 20% | A variação é considerada intermediária |\n",
        "> | CV $>$ 20%            | A variação é considerada grande        |"
      ]
    },
    {
      "cell_type": "markdown",
      "metadata": {
        "id": "BrspE8AEVlSX",
        "colab_type": "text"
      },
      "source": [
        "> **EXEMPLO**\n",
        ">\n",
        "> Considere os dados de Receitas da Susep (Superintendência de Seguros Privados), utilizados no exemplo anterior.\n",
        ">\n",
        "> Independente de qualquer detalhamento, qual o **coeficiente de variação** do Valor Arrecadado e do Valor Previsto, representados pelas variáveis **Receita Realizada (Valor Arrecadado)** e **Orçamento Atualizado (Valor Previsto)**, respectivamente? Utilize o coeficiente de variação para identificar qual variável apresenta maior variação.\n",
        ">\n",
        "> <hr>\n",
        ">\n",
        "> *Para calcularmos o coeficiente de variação do Valor Arrecadado e Previsto, utilizaremos os métodos **.mean()** e **.std()**, associados ao **Pandas DataFrame**. Em seguida calculamos a razão entre o desvio-padrão e a média.*"
      ]
    },
    {
      "cell_type": "code",
      "metadata": {
        "scrolled": true,
        "id": "2YpnmhclVlSY",
        "colab_type": "code",
        "colab": {
          "base_uri": "https://localhost:8080/",
          "height": 50
        },
        "outputId": "12bbc344-46cb-41dc-ae86-8289a1e4a059"
      },
      "source": [
        "# Dados\n",
        "# ---\n",
        "X_Arr_bar = data['Receita Realizada (Valor Arrecadado)'].mean()\n",
        "X_Pre_bar = data['Orçamento Atualizado (Valor Previsto)'].mean()\n",
        "\n",
        "X_Arr_sig = data['Receita Realizada (Valor Arrecadado)'].std()\n",
        "X_Pre_sig = data['Orçamento Atualizado (Valor Previsto)'].std()\n",
        "\n",
        "X_Arr_CV = X_Arr_sig / X_Arr_bar * 100\n",
        "X_Pre_CV = X_Pre_sig / X_Pre_bar * 100\n",
        "\n",
        "# Printando o resultado\n",
        "# ---\n",
        "print(\"O coeficiente de variação de Pearson, das receitas arrecadadas registradas, é de\", round(X_Arr_CV,2), \"%\")\n",
        "print(\"O coeficiente de variação de Pearson, das receitas previstas registradas, é de\", round(X_Pre_CV,2), \"%\")"
      ],
      "execution_count": null,
      "outputs": [
        {
          "output_type": "stream",
          "text": [
            "O coeficiente de variação de Pearson, das receitas arrecadadas registradas, é de 311.78 %\n",
            "O coeficiente de variação de Pearson, das receitas previstas registradas, é de 318.58 %\n"
          ],
          "name": "stdout"
        }
      ]
    },
    {
      "cell_type": "markdown",
      "metadata": {
        "id": "VHr8sOYjVlSc",
        "colab_type": "text"
      },
      "source": [
        "> **INTERPRETAÇÃO DO RESULTADO**\n",
        ">\n",
        "> - Ambos os coeficientes de variação calculados são muito maiores do que 100%. \n",
        "> - O resultado expressa o que identificamos em exemplos anteriores, o desvio-padrão das receitas equivale a aproximadamente 3x a média, explicitando a alta variabiidade da variável em estudo;\n",
        "> - A variação das receitas previstas é levemente superior à variação das receitas arrecadadas."
      ]
    },
    {
      "cell_type": "markdown",
      "metadata": {
        "variables": {
          "X_Q3": "771472.23",
          "X_amp": "218917466.46",
          "X_bar": "13375059.12",
          "X_med": "43742.89",
          "X_sig": "41700291.17"
        },
        "id": "EV_2rRuEVlSd",
        "colab_type": "text"
      },
      "source": [
        "## AGRUPAMENTO DE DADOS\n",
        "\n",
        "Até o momento, obtivemos **medidas-chave** que nos permitiram ter uma percepção inicial do comportamento dos dados que coletamos. Com base nelas, entendemos que:\n",
        "\n",
        "- A média das receitas foi altamente afetada pelos registros de maior magnitude (pois, temos uma média igual a {{X_bar}} e uma mediana igual a {{X_med}});\n",
        "- Os dados variam em ordens de grandeza muito diferentes (a amplitude total é igual a {{X_amp}});\n",
        "- Estamos lidando com registros com alta variabilidade (pois temos um desvio-padrão igual a {{X_sig}});\n",
        "- Há uma alta concentração de registros com ordens de grandeza inferiores (pois 75% deles estão abaixo de R$ {{X_Q3}}).\n"
      ]
    },
    {
      "cell_type": "code",
      "metadata": {
        "scrolled": true,
        "id": "tuHzUUCnVlSd",
        "colab_type": "code",
        "colab": {
          "base_uri": "https://localhost:8080/",
          "height": 151
        },
        "outputId": "aa012361-1e1c-4706-ea8e-3c265597fd43"
      },
      "source": [
        "import math\n",
        "# pd.cut(dados['normal'], 8).head()\n",
        "\n",
        "N = data.shape[0]\n",
        "k = int(round(1 + 3.322 * math.log10(N),0))\n",
        "\n",
        "custom_bucket_array = np.linspace(X_min, X_max, k)\n",
        "custom_bucket_array\n",
        "\n",
        "# data['Receita Categorizada'] = pd.cut(data['Receita Realizada (Valor Arrecadado)'], custom_bucket_array)\n",
        "\n",
        "# a = data.groupby('Receita Categorizada').size()\n",
        "\n",
        "# categories = data['Receita Categorizada'].cat.categories\n",
        "\n",
        "# data = data.filter(items=['Receita Categorizada'])\n",
        "# data = data.groupby('Receita Categorizada').size()\n",
        "\n",
        "# assign(ln_A = lambda x: np.log(x.A))\n",
        "\n",
        "print(data.head())\n",
        "\n",
        "# ind = np.array([x for x, _ in enumerate(categories)])\n",
        "# width = 1.0       \n",
        "# plt.bar(ind, a, width, label='Normal')\n",
        "\n",
        "# plt.xticks(ind + width / 2, categories)\n",
        "# plt.legend(loc='best')\n",
        "# plt.xticks(rotation = 90)\n",
        "# plt.show()\n",
        "\n",
        "# print(pd.cut(data['Receita Realizada (Valor Arrecadado)'],8))\n"
      ],
      "execution_count": null,
      "outputs": [
        {
          "output_type": "stream",
          "text": [
            "    Ano                  Órgão Superior  ... % Previsto/Realizado Pesos Ficticios\n",
            "0  2013  25000 - Ministério da Economia  ...                 0.00               1\n",
            "1  2013  25000 - Ministério da Economia  ...               106.07               2\n",
            "2  2013  25000 - Ministério da Economia  ...               143.73               1\n",
            "3  2013  25000 - Ministério da Economia  ...               123.81               1\n",
            "4  2013  25000 - Ministério da Economia  ...                 0.00               1\n",
            "\n",
            "[5 rows x 12 columns]\n"
          ],
          "name": "stdout"
        }
      ]
    },
    {
      "cell_type": "code",
      "metadata": {
        "scrolled": true,
        "id": "ueQevvY6VlSi",
        "colab_type": "code",
        "colab": {
          "base_uri": "https://localhost:8080/",
          "height": 50
        },
        "outputId": "d04193f9-dc47-477c-9d02-eb27b2041374"
      },
      "source": [
        "import math\n",
        "# pd.cut(dados['normal'], 8).head()\n",
        "\n",
        "Xmin = data['Receita Realizada (Valor Arrecadado)'].min()\n",
        "Xmax = data['Receita Realizada (Valor Arrecadado)'].max()\n",
        "\n",
        "N = data.shape[0]\n",
        "k = int(round(1 + 3.322 * math.log10(N),0))\n",
        "\n",
        "custom_bucket_array = np.linspace(Xmin, Xmax, k)\n",
        "custom_bucket_array"
      ],
      "execution_count": null,
      "outputs": [
        {
          "output_type": "execute_result",
          "data": {
            "text/plain": [
              "array([0.00000000e+00, 3.12739238e+07, 6.25478476e+07, 9.38217713e+07,\n",
              "       1.25095695e+08, 1.56369619e+08, 1.87643543e+08, 2.18917466e+08])"
            ]
          },
          "metadata": {
            "tags": []
          },
          "execution_count": 20
        }
      ]
    },
    {
      "cell_type": "markdown",
      "metadata": {
        "id": "f2QuWORrVlSk",
        "colab_type": "text"
      },
      "source": [
        "# REPRESENTAÇÃO TABULAR\n",
        "<hr>\n",
        "\n",
        "Consiste em dispor os dados de maneira ordenada e resumida,a fim de facilitar a compreensão das conclusões apresentadas ao leitor.\n",
        "\n",
        "As tabelas são compostas dos seguintes elementos:\n",
        "    \n",
        "- Título $\\Rightarrow$ O quê? Quando? Onde?\n",
        "- Corpo\n",
        "- Cabeçalho\n",
        "- Colunas indicadoras\n",
        "- Fonte"
      ]
    },
    {
      "cell_type": "markdown",
      "metadata": {
        "id": "iVaKcOD7VlSk",
        "colab_type": "text"
      },
      "source": [
        "<hr>\n",
        "\n",
        "# REPRESENTAÇÃO GRÁFICA\n",
        "\n",
        "<hr>"
      ]
    },
    {
      "cell_type": "markdown",
      "metadata": {
        "id": "DUEXhDz4VlSl",
        "colab_type": "text"
      },
      "source": [
        "É uma forma de apresentação mais atraente, que permite uma rápida visualização da distribuição dos valores observados.\n",
        "\n",
        "A **representação gráfica** torna simples a percepção do modo como os valores de uma variável se distribuem ao longo de suas possibilidades. Ela permite compreender essa distribuição, realizar comparações e extrair relações entre grupos de informações. Cada tipo de variável exige uma forma de representação mais apropriada. "
      ]
    },
    {
      "cell_type": "markdown",
      "metadata": {
        "id": "750Z1b4fVlSm",
        "colab_type": "text"
      },
      "source": [
        "## REPRESENTAÇÃO GRÁFICA - VARIÁVEIS QUALITATIVAS\n",
        "\n",
        "<br>\n",
        "\n",
        "As variáveis qualitativas costumam ser representadas por: \n",
        "\n",
        "- Gráficos de barras;\n",
        "- Gráficos de setores (ou de pizza);\n",
        "- Gráficos de retângulos."
      ]
    },
    {
      "cell_type": "markdown",
      "metadata": {
        "id": "riyoXsG5VlSm",
        "colab_type": "text"
      },
      "source": [
        "### Gráficos de Barras"
      ]
    },
    {
      "cell_type": "code",
      "metadata": {
        "id": "dAVV7U9VYA7j",
        "colab_type": "code",
        "colab": {
          "base_uri": "https://localhost:8080/",
          "height": 285
        },
        "outputId": "920e69a5-0095-49fc-e5fb-e4f63363ce2a"
      },
      "source": [
        "# Dados\n",
        "# ---\n",
        "X = data[{'Receita Realizada (Valor Arrecadado)','Origem'}]\n",
        "\n",
        "# Número de classes do histograma\n",
        "# ---\n",
        "# n_bins = 25\n",
        "\n",
        "X.plot.bar();"
      ],
      "execution_count": null,
      "outputs": [
        {
          "output_type": "display_data",
          "data": {
            "image/png": "[encoded data removed]",
            "text/plain": [
              "<Figure size 432x288 with 1 Axes>"
            ]
          },
          "metadata": {
            "tags": [],
            "needs_background": "light"
          }
        }
      ]
    },
    {
      "cell_type": "markdown",
      "metadata": {
        "id": "1LFu4htlVlSn",
        "colab_type": "text"
      },
      "source": [
        "## REPRESENTAÇÃO GRÁFICA - VARIÁVEIS QUANTITATIVAS\n",
        "\n",
        "<br>\n",
        "\n",
        "Por outro lado, as variáveis quantitativas costumam ser representadas por:\n",
        "\n",
        "- Diagrama de pontos;\n",
        "- Histogramas;\n",
        "- Funções de densidades estimadas (polígonos ou frequências);\n",
        "- Gráficos de Ramos-e-folhas;\n",
        "- Boxplots (ou diagramas de caixa)."
      ]
    },
    {
      "cell_type": "markdown",
      "metadata": {
        "id": "oWF8Q3_kVlSn",
        "colab_type": "text"
      },
      "source": [
        "### Histograma\n",
        "\n",
        "É uma representação gráfica (por retângulos contíguos) da distribuição de frequências de uma variável contínua.\n",
        "\n",
        "**Construção:**\n",
        "1. Determine a amplitude dos dados;\n",
        "2. Determine o número de classes (fórmulas de Sturges, Scott, Freedman-Diaconis, etc.); \n",
        "3. Construa a tabela de frequências baseada nas classes;\n",
        "4. Construa o histograma baseado na tabela de frequências."
      ]
    },
    {
      "cell_type": "code",
      "metadata": {
        "scrolled": true,
        "tags": [
          "CODE"
        ],
        "id": "fVhueu4RVlSo",
        "colab_type": "code",
        "colab": {}
      },
      "source": [
        "import matplotlib.pyplot as plt\n",
        "import numpy as np\n",
        "from matplotlib import colors\n",
        "from matplotlib.ticker import PercentFormatter\n",
        "\n",
        "# Fixing random state for reproducibility\n",
        "np.random.seed(19680801)"
      ],
      "execution_count": null,
      "outputs": []
    },
    {
      "cell_type": "code",
      "metadata": {
        "scrolled": false,
        "id": "H_1P7t1WVlSr",
        "colab_type": "code",
        "colab": {
          "base_uri": "https://localhost:8080/",
          "height": 278
        },
        "outputId": "a9116c98-50e0-4e28-8aa0-e997a40e715b"
      },
      "source": [
        "# Dados\n",
        "# ---\n",
        "X = data['Receita Realizada (Valor Arrecadado)']\n",
        "\n",
        "# Número de classes do histograma\n",
        "# ---\n",
        "n_bins = 25\n",
        "\n",
        "X.hist(bins=n_bins);"
      ],
      "execution_count": null,
      "outputs": [
        {
          "output_type": "display_data",
          "data": {
            "image/png": "[encoded data removed]",
            "text/plain": [
              "<Figure size 432x288 with 1 Axes>"
            ]
          },
          "metadata": {
            "tags": [],
            "needs_background": "light"
          }
        }
      ]
    },
    {
      "cell_type": "markdown",
      "metadata": {
        "id": "WhrXu2IcVlSt",
        "colab_type": "text"
      },
      "source": [
        "### Funções de densidades estimadas\n",
        "\n",
        "É uma representação gráfica (por retângulos contíguos) da distribuição de frequências de uma variável contínua.\n",
        "\n",
        "**Construção:**\n",
        "1. Determine a amplitude dos dados;\n",
        "2. Determine o número de classes (fórmulas de Sturges, Scott, Freedman-Diaconis, etc.); \n",
        "3. Construa a tabela de frequências baseada nas classes;\n",
        "4. Construa o histograma baseado na tabela de frequências."
      ]
    },
    {
      "cell_type": "code",
      "metadata": {
        "scrolled": true,
        "tags": [
          "CODE"
        ],
        "id": "hXs7a6mVVlSt",
        "colab_type": "code",
        "colab": {}
      },
      "source": [
        "import matplotlib.pyplot as plt\n",
        "import numpy as np\n",
        "from matplotlib import colors\n",
        "from matplotlib.ticker import PercentFormatter\n",
        "\n",
        "# Fixing random state for reproducibility\n",
        "np.random.seed(19680801)"
      ],
      "execution_count": null,
      "outputs": []
    },
    {
      "cell_type": "code",
      "metadata": {
        "id": "XxxbKGZ8VlSv",
        "colab_type": "code",
        "colab": {},
        "outputId": "c4520c48-7dc1-4f03-dabe-00a92d473f68"
      },
      "source": [
        "# Dados\n",
        "# ---\n",
        "X = data.query('Espécie != \"112 - Taxas\" & Espécie != \"132 - Valores Mobiliários\" & Espécie != \"191 - Multas administrativas, contratuais e judiciais\" & Espécie != \"000 - Sem informação\"')['Receita Realizada (Valor Arrecadado)']\n",
        "\n",
        "# Número de classes do histograma\n",
        "# ---\n",
        "n_bins = 25\n",
        "\n",
        "# Configuração inicial\n",
        "# ---\n",
        "fig, axs = plt.subplots()\n",
        "\n",
        "# Gráfico\n",
        "axs.hist(X, bins=n_bins)\n",
        "plt.show()"
      ],
      "execution_count": null,
      "outputs": [
        {
          "output_type": "display_data",
          "data": {
            "image/png": "[encoded data removed]",
            "text/plain": [
              "<Figure size 432x288 with 1 Axes>"
            ]
          },
          "metadata": {
            "tags": [],
            "needs_background": "light"
          }
        }
      ]
    },
    {
      "cell_type": "code",
      "metadata": {
        "id": "VVy9bQggVlSz",
        "colab_type": "code",
        "colab": {},
        "outputId": "8b766218-4722-4825-e72f-9fa8ffedd889"
      },
      "source": [
        ""
      ],
      "execution_count": null,
      "outputs": [
        {
          "output_type": "execute_result",
          "data": {
            "text/plain": [
              "1      1.503350e+08\n",
              "25     1.607786e+08\n",
              "28     1.747703e+08\n",
              "43     1.008233e+05\n",
              "53     2.189175e+08\n",
              "61     1.909927e+08\n",
              "71     2.415413e+04\n",
              "74     1.091367e+04\n",
              "75     1.516431e+08\n",
              "80     2.255806e+05\n",
              "89     1.406870e+03\n",
              "95     1.519070e+03\n",
              "99     1.159970e+03\n",
              "104    1.565293e+08\n",
              "106    0.000000e+00\n",
              "112    1.482390e+03\n",
              "113    9.093293e+07\n",
              "Name: Receita Realizada (Valor Arrecadado), dtype: float64"
            ]
          },
          "metadata": {
            "tags": []
          },
          "execution_count": 41
        }
      ]
    },
    {
      "cell_type": "markdown",
      "metadata": {
        "id": "8bpvPLBIVlS1",
        "colab_type": "text"
      },
      "source": [
        "## Boxplot\n",
        "\n",
        "Exibe graficamente um resumo de 5 números de um conjunto de dados: mín, $\\text{Q}_1$, Md, $\\text{Q}_3$ e máx.\\medskip\n",
        "    \n",
        "Fornece informação sobre as seguintes características\n",
        "de um conjunto de dados:\n",
        "\n",
        "- Posição\n",
        "- Variabilidade\n",
        "- Assimetria\n",
        "- *Outliers*\n",
        "\n",
        "Pode ser usado para comparar visualmente 2 ou mais grupos.\n",
        "\n",
        "A fim de identificar *outliers*, calculam-se as linhas auxiliares:\n",
        "\n",
        "$$\n",
        "LI = Q_{1}-1,5\\left(Q_{3}-Q_{1}\\right) \n",
        "\\quad\\quad\\mbox{e}\\quad\\quad \n",
        "LS = Q_{3}+1,5\\left(Q_{3}-Q_{1}\\right)\n",
        "$$\n",
        "\n",
        "Assim, se houver pontos que excedem $LI$ ou $LS$, estes são chamados de *outliers* inferiores (ou ainda, negativos) ou superiores (ou ainda, positivos), respectivamente."
      ]
    },
    {
      "cell_type": "code",
      "metadata": {
        "id": "S4CEFAj0VlS1",
        "colab_type": "code",
        "colab": {
          "base_uri": "https://localhost:8080/",
          "height": 283
        },
        "outputId": "f1944812-ed55-49db-936e-c9346b391a66"
      },
      "source": [
        "# Dados\n",
        "# ---\n",
        "X = data.query('Espécie == \"131 - Exploração do patrimônio imobiliário do Estado\"')['Receita Realizada (Valor Arrecadado)']\n",
        "\n",
        "X.plot.box()\n",
        "# # Configuração inicial\n",
        "# # ---\n",
        "# fig, axs = plt.subplots()\n",
        "\n",
        "# # Gráfico\n",
        "# axs.boxplot(X)\n",
        "# plt.show()"
      ],
      "execution_count": null,
      "outputs": [
        {
          "output_type": "execute_result",
          "data": {
            "text/plain": [
              "<matplotlib.axes._subplots.AxesSubplot at 0x7fd225962d30>"
            ]
          },
          "metadata": {
            "tags": []
          },
          "execution_count": 53
        },
        {
          "output_type": "display_data",
          "data": {
            "image/png": "[encoded data removed]",
            "text/plain": [
              "<Figure size 432x288 with 1 Axes>"
            ]
          },
          "metadata": {
            "tags": [],
            "needs_background": "light"
          }
        }
      ]
    },
    {
      "cell_type": "code",
      "metadata": {
        "scrolled": true,
        "id": "JjLknObNVlS4",
        "colab_type": "code",
        "colab": {}
      },
      "source": [
        "import numpy as np;\n",
        "import pandas as pd;\n",
        "import matplotlib.pyplot as plt\n",
        "\n",
        "np.random.seed(seed=3)\n",
        "X = np.random.poisson(lam=30, size=50)\n",
        "X = pd.DataFrame(data={'X':X})\n",
        "\n",
        "aux025 = X.quantile(0.25)\n",
        "aux075 = X.quantile(0.75)\n",
        "aux050 = X.quantile(0.5)\n",
        "IQ = X.quantile(0.75) - X.quantile(0.25)\n",
        "minIQ = aux025 - 1.5*IQ\n",
        "maxIQ = aux075 + 1.5*IQ\n",
        "max = X.query('X < @maxIQ')\n",
        "\n",
        "plt.boxplot(X['X'])\n",
        "plt.ylim((10,50))\n",
        "plt.xlim((0.8,1.5))\n",
        "plt.plot([0.95,1.05], [maxIQ,maxIQ], '--', 'b')\n",
        "plt.annotate('Limite Superior\\n(1,5xDIQ acima do percentil 75)', \n",
        "             xy=(1.1, maxIQ), \n",
        "             xytext=(1.2, maxIQ*0.995), \n",
        "             arrowprops={'facecolor':'blue', 'shrink':0.01, 'lw':0})\n",
        "plt.plot([0.95,1.05], [minIQ,minIQ], '--', 'b')\n",
        "plt.annotate('Limite Inferior\\n(1,5xDIQ abaixo do percentil 25)', \n",
        "             xy=(1.1, minIQ), \n",
        "             xytext=(1.2, minIQ*0.995), \n",
        "             arrowprops={'facecolor':'blue', 'shrink':0.01, 'lw':0})\n",
        "# plt.axis('off')\n",
        "plt.annotate('Q1 (Percentil 25)',\n",
        "             xy=(1.1, aux025), \n",
        "             xytext=(1.2, aux025*0.995), \n",
        "             arrowprops={'facecolor':'red', 'shrink':0.01, 'lw':0})\n",
        "plt.annotate('Mediana', \n",
        "             xy=(1.1, aux050), \n",
        "             xytext=(1.2, aux050*0.995), \n",
        "             arrowprops={'facecolor':'red', 'shrink':0.01, 'lw':0})\n",
        "plt.annotate('Q3 (Percentil 75)', \n",
        "             xy=(1.1, aux075), \n",
        "             xytext=(1.2, aux075*0.995), \n",
        "             arrowprops={'facecolor':'red', 'shrink':0.01, 'lw':0})\n",
        "plt.style.use('fivethirtyeight')\n",
        "plt.show()\n",
        "\n",
        "# print(minIQ)\n",
        "print(max)\n",
        "\n",
        "# Limite Superior (1,5xDIQ acima do percentil 75)\n",
        "# Maior observação abaixo do Limite Superior\n",
        "# Q3 (Percentil 75)\n",
        "# Média\n",
        "# Mediana\n",
        "# Q1 (Percentil 25)\n",
        "# Menor observação acima do Limite Inferior\n",
        "# Limite Inferior (1,5xDIQ abaixo do percentil 25)\n",
        "\n",
        "\n",
        "# plt.plot(df['Mes'], df['data science'], label='data science')\n",
        "# plt.plot(df['Mes'], df['machine learning'], label='machine learning')\n",
        "# plt.plot(df['Mes'], df['deep learning'], label='deep learning')\n",
        "# plt.xlabel('Date')\n",
        "# plt.ylabel('Popularity')\n",
        "# plt.title('Popularity of AI terms by date')\n",
        "# plt.grid(True)\n",
        "# plt.text(x='2010-01-01', y=80, s=r'$\\lambda=1, r^2=0.8$') #Coordinates use the same units as the graph\n",
        "# plt.annotate('Notice something?', xy=('2014-01-01', 30), xytext=('2006-01-01', 50), arrowprops={'facecolor':'red', 'shrink':0.05})"
      ],
      "execution_count": null,
      "outputs": []
    },
    {
      "cell_type": "code",
      "metadata": {
        "scrolled": true,
        "id": "PHT3Jx3LVlS6",
        "colab_type": "code",
        "colab": {}
      },
      "source": [
        "# pip install pandas-profiling\n",
        "\n",
        "from pandas_profiling import ProfileReport\n",
        "\n",
        "prof = ProfileReport(data)\n",
        "# prof\n",
        "# prof.to_file(output_file='output.html')"
      ],
      "execution_count": null,
      "outputs": []
    },
    {
      "cell_type": "code",
      "metadata": {
        "scrolled": true,
        "id": "U3RvgdZcVlS9",
        "colab_type": "code",
        "colab": {}
      },
      "source": [
        "data.groupby('Espécie').agg({'Orçamento Atualizado (Valor Previsto)':['sum','mean']})"
      ],
      "execution_count": null,
      "outputs": []
    },
    {
      "cell_type": "markdown",
      "metadata": {
        "id": "nGGDaYJRVlS_",
        "colab_type": "text"
      },
      "source": [
        "<hr>\n",
        "\n",
        "<p style='font-size:36px; text-align: center;'><b>ESTATÍSTICA BÁSICA PARA CIÊNCIAS DE DADOS</b></p>\n",
        "<p style='font-size:22px; text-align: center;'><b>MÓDULO II: INTRODUÇÃO ÀS DISTRIBUIÇÕES DE PROBABILIDADES</b></p>\n",
        "\n",
        "<hr>\n",
        "\n",
        "<br><br><p style='font-size:20px; text-align: center;'>Francisco Louzada Neto</p>\n",
        "<p style='font-size:12px; text-align: center;'>\n",
        "Professor do SME-ICMC-USP<br>\n",
        "Phd em Estatística\n",
        "</p><br><br>\n",
        "\n",
        "<hr>\n",
        "<img src=\"logo_CeMEAI.jpg\" width = 200 style=\"position: absolute; margin:0px 0px 0px 0px\">\n",
        "\n",
        "<p style='font-size:14px; text-align: center;'>\n",
        "Centro de Matemática e Estatística Aplicadas à Indústria<br>\n",
        "Instituto de Ciências Matemáticas e de Computação - USP<br>\n",
        "<i style='font-size:14px;' class=\"fa fa-phone\"></i> +55 (16) 3373-8159 | \n",
        "<i style='font-size:14px;' class=\"fa fa-phone\"></i> +55 (16) 3371-2238 <br>\n",
        "<a href=\"mailto:contatocemeai@icmc.usp.br\"><i style='font-size:14px;' class=\"fa fa-envelope\"></i></a>$~~$\n",
        "<a href=\"https://www.facebook.com/cepid.cemeai/\"><i style='font-size:14px;' class=\"fa fa-facebook\"></i></a>$~~$\n",
        "<a href=\"https://www.youtube.com/c/CEPIDCeMEAI\"><i style='font-size:14px;' class=\"fa fa-youtube\"></i></a>$~~$\n",
        "<a href=\"https://twitter.com/cepidcemeai\"><i style='font-size:14px;' class=\"fa fa-twitter\"></i></a>\n",
        "</p>\n",
        "\n",
        "<img src=\"logo_ICMC.jpg\" width = 150 style=\"position: absolute; right: 0px; margin:-75px 30px 0px 0px\">\n",
        "<hr>\n",
        "     "
      ]
    },
    {
      "cell_type": "markdown",
      "metadata": {
        "id": "c3njRg8MVlS_",
        "colab_type": "text"
      },
      "source": [
        "# DISTRIBUIÇÕES DE PROBABILIDADE UNIVARIADAS\n",
        "<hr>\n",
        "\n",
        "Como a Estatística é capaz de representar incertezas e reconhecer padrões de aleatoriedade?"
      ]
    },
    {
      "cell_type": "markdown",
      "metadata": {
        "id": "GzLhVHarVlS_",
        "colab_type": "text"
      },
      "source": [
        "## NORMAL"
      ]
    },
    {
      "cell_type": "markdown",
      "metadata": {
        "id": "HMBd2m3MVlTA",
        "colab_type": "text"
      },
      "source": [
        "## BINOMIAL"
      ]
    },
    {
      "cell_type": "markdown",
      "metadata": {
        "id": "KIzUPGheVlTB",
        "colab_type": "text"
      },
      "source": [
        "## POISSON"
      ]
    },
    {
      "cell_type": "markdown",
      "metadata": {
        "id": "iBjMkmdIVlTC",
        "colab_type": "text"
      },
      "source": [
        "<hr>\n",
        "\n",
        "<p style='font-size:36px; text-align: center;'><b>ESTATÍSTICA BÁSICA PARA CIÊNCIAS DE DADOS</b></p>\n",
        "<p style='font-size:22px; text-align: center;'><b>MÓDULO II: INTRODUÇÃO ÀS DISTRIBUIÇÕES DE ESTATÍSTICAS</b></p>\n",
        "\n",
        "<hr>\n",
        "\n",
        "<br><br><p style='font-size:20px; text-align: center;'>Francisco Louzada Neto</p>\n",
        "<p style='font-size:12px; text-align: center;'>\n",
        "Professor do SME-ICMC-USP<br>\n",
        "Phd em Estatística\n",
        "</p><br><br>\n",
        "\n",
        "<hr>\n",
        "<img src=\"logo_CeMEAI.jpg\" width = 200 style=\"position: absolute; margin:0px 0px 0px 0px\">\n",
        "\n",
        "<p style='font-size:14px; text-align: center;'>\n",
        "Centro de Matemática e Estatística Aplicadas à Indústria<br>\n",
        "Instituto de Ciências Matemáticas e de Computação - USP<br>\n",
        "<i style='font-size:14px;' class=\"fa fa-phone\"></i> +55 (16) 3373-8159 | \n",
        "<i style='font-size:14px;' class=\"fa fa-phone\"></i> +55 (16) 3371-2238 <br>\n",
        "<a href=\"mailto:contatocemeai@icmc.usp.br\"><i style='font-size:14px;' class=\"fa fa-envelope\"></i></a>$~~$\n",
        "<a href=\"https://www.facebook.com/cepid.cemeai/\"><i style='font-size:14px;' class=\"fa fa-facebook\"></i></a>$~~$\n",
        "<a href=\"https://www.youtube.com/c/CEPIDCeMEAI\"><i style='font-size:14px;' class=\"fa fa-youtube\"></i></a>$~~$\n",
        "<a href=\"https://twitter.com/cepidcemeai\"><i style='font-size:14px;' class=\"fa fa-twitter\"></i></a>\n",
        "</p>\n",
        "\n",
        "<img src=\"logo_ICMC.jpg\" width = 150 style=\"position: absolute; right: 0px; margin:-75px 30px 0px 0px\">\n",
        "<hr>\n",
        "     "
      ]
    },
    {
      "cell_type": "markdown",
      "metadata": {
        "id": "RlkTRkpiVlTD",
        "colab_type": "text"
      },
      "source": [
        "# DISTRIBUIÇÕES DE ESTATÍSTICAS\n",
        "<hr>\n",
        "\n",
        "Como a Estatística é capaz de quantificar o erro de suas estimativas?"
      ]
    },
    {
      "cell_type": "markdown",
      "metadata": {
        "id": "7JtwwlynVlTE",
        "colab_type": "text"
      },
      "source": [
        "## CONCEITOS BÁSICOS "
      ]
    },
    {
      "cell_type": "markdown",
      "metadata": {
        "id": "cpFX54ScVlTE",
        "colab_type": "text"
      },
      "source": [
        "## AMOSTRAGEM"
      ]
    },
    {
      "cell_type": "markdown",
      "metadata": {
        "id": "M8n9SqQdVlTF",
        "colab_type": "text"
      },
      "source": [
        "## DISTRIBUIÇÕES AMOSTRAIS"
      ]
    },
    {
      "cell_type": "markdown",
      "metadata": {
        "id": "efCu79CQVlTG",
        "colab_type": "text"
      },
      "source": [
        "<hr>\n",
        "\n",
        "<p style='font-size:36px; text-align: center;'><b>ESTATÍSTICA BÁSICA PARA CIÊNCIAS DE DADOS</b></p>\n",
        "<p style='font-size:22px; text-align: center;'><b>MÓDULO IV: INTRODUÇÃO À INFERÊNCIA ESTATÍSTICA</b></p>\n",
        "\n",
        "<hr>\n",
        "\n",
        "<br><br><p style='font-size:20px; text-align: center;'>Francisco Louzada Neto</p>\n",
        "<p style='font-size:12px; text-align: center;'>\n",
        "Professor do SME-ICMC-USP<br>\n",
        "Phd em Estatística\n",
        "</p><br><br>\n",
        "\n",
        "<hr>\n",
        "<img src=\"logo_CeMEAI.jpg\" width = 200 style=\"position: absolute; margin:0px 0px 0px 0px\">\n",
        "\n",
        "<p style='font-size:14px; text-align: center;'>\n",
        "Centro de Matemática e Estatística Aplicadas à Indústria<br>\n",
        "Instituto de Ciências Matemáticas e de Computação - USP<br>\n",
        "<i style='font-size:14px;' class=\"fa fa-phone\"></i> +55 (16) 3373-8159 | \n",
        "<i style='font-size:14px;' class=\"fa fa-phone\"></i> +55 (16) 3371-2238 <br>\n",
        "<a href=\"mailto:contatocemeai@icmc.usp.br\"><i style='font-size:14px;' class=\"fa fa-envelope\"></i></a>$~~$\n",
        "<a href=\"https://www.facebook.com/cepid.cemeai/\"><i style='font-size:14px;' class=\"fa fa-facebook\"></i></a>$~~$\n",
        "<a href=\"https://www.youtube.com/c/CEPIDCeMEAI\"><i style='font-size:14px;' class=\"fa fa-youtube\"></i></a>$~~$\n",
        "<a href=\"https://twitter.com/cepidcemeai\"><i style='font-size:14px;' class=\"fa fa-twitter\"></i></a>\n",
        "</p>\n",
        "\n",
        "<img src=\"logo_ICMC.jpg\" width = 150 style=\"position: absolute; right: 0px; margin:-75px 30px 0px 0px\">\n",
        "<hr>\n",
        "     "
      ]
    },
    {
      "cell_type": "markdown",
      "metadata": {
        "id": "GkQlW4meVlTH",
        "colab_type": "text"
      },
      "source": [
        "# INFERÊNCIA ESTATÍSTICA E TESTES DE HIPÓTESES\n",
        "<hr>\n",
        "\n",
        "Como a Estatística utiliza suas ferramentas para avaliar suposicões sobre a realidade?"
      ]
    },
    {
      "cell_type": "markdown",
      "metadata": {
        "id": "4DPdTMi9VlTI",
        "colab_type": "text"
      },
      "source": [
        "## INTERVALOS DE CONFIANÇA E TESTES DE HIPÓTESES PARA MÉDIA POPULACIONAL"
      ]
    },
    {
      "cell_type": "markdown",
      "metadata": {
        "id": "Yp2Y1uoUVlTJ",
        "colab_type": "text"
      },
      "source": [
        "## INTERVALOS DE CONFIANÇA E TESTES DE HIPÓTESES PARA PROPORÇÃO POPULACIONAL"
      ]
    },
    {
      "cell_type": "markdown",
      "metadata": {
        "id": "vX612NtFVlTK",
        "colab_type": "text"
      },
      "source": [
        "## RELAÇÃO ENTRE TESTES DE HIPÓTESE E INTERVALOS DE CONFIANÇA"
      ]
    },
    {
      "cell_type": "markdown",
      "metadata": {
        "id": "kJGP6waBVlTK",
        "colab_type": "text"
      },
      "source": [
        "## TIPO DE ERROS (TIPO I E II) E P-VALOR"
      ]
    },
    {
      "cell_type": "markdown",
      "metadata": {
        "id": "ApBwJZvqVlTK",
        "colab_type": "text"
      },
      "source": [
        "## TESTES DE HIPÓTESE PARA DOIS GRUPOS"
      ]
    }
  ]
}
